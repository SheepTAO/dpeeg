{
 "cells": [
  {
   "cell_type": "code",
   "execution_count": 1,
   "metadata": {},
   "outputs": [
    {
     "name": "stdout",
     "output_type": "stream",
     "text": [
      "0.2.3\n"
     ]
    }
   ],
   "source": [
    "import os\n",
    "import sys\n",
    "\n",
    "BOOTPATH = os.path.dirname(sys.path[0])\n",
    "sys.path.insert(0, BOOTPATH)\n",
    "import dpeeg\n",
    "print(dpeeg.__version__)"
   ]
  },
  {
   "cell_type": "code",
   "execution_count": 2,
   "metadata": {},
   "outputs": [
    {
     "name": "stdout",
     "output_type": "stream",
     "text": [
      "SlideWin(win=250, overlap=25)\n",
      "Tensorflow not install, you could not use those pipelines\n",
      "To use the get_shape_from_baseconcar, InputShapeSetterEEG, BraindecodeDatasetLoaderyou need to install `braindecode`.`pip install braindecode` or Please refer to `https://braindecode.org`.\n"
     ]
    },
    {
     "name": "stderr",
     "output_type": "stream",
     "text": [
      "[Transform dataset ...]\n",
      "---------------------\n",
      "[SplitDataset(testSize=0.2, seed=42) starting ...]\n",
      "[SlideWin(win=250, overlap=25) starting ...]\n",
      "Sliding window to sub_1.\n",
      "Sliding window with win:250 and overlap:25.\n",
      "Sliding window with win:250 and overlap:25.\n",
      "Sliding window to sub_2.\n",
      "Sliding window with win:250 and overlap:25.\n",
      "Sliding window with win:250 and overlap:25.\n",
      "Sliding window to sub_3.\n",
      "Sliding window with win:250 and overlap:25.\n",
      "Sliding window with win:250 and overlap:25.\n",
      "---------------\n",
      "[Transform done.]\n",
      "Loading dataset done.\n"
     ]
    }
   ],
   "source": [
    "from dpeeg.data import transforms, datasets\n",
    "from dpeeg.data.datasets import BCICIV2A\n",
    "trans = transforms.SlideWin(win=250, overlap=25)\n",
    "print(trans)\n",
    "\n",
    "data = datasets.BCICIV2A(subjects=[1, 2, 3], mode=0, transforms=trans, verbose='WARNING')"
   ]
  },
  {
   "cell_type": "code",
   "execution_count": 3,
   "metadata": {},
   "outputs": [
    {
     "name": "stdout",
     "output_type": "stream",
     "text": [
      "1\n",
      "2\n",
      "3\n"
     ]
    }
   ],
   "source": [
    "for sub, data in data.items():\n",
    "    print(sub)"
   ]
  }
 ],
 "metadata": {
  "kernelspec": {
   "display_name": "bci",
   "language": "python",
   "name": "python3"
  },
  "language_info": {
   "codemirror_mode": {
    "name": "ipython",
    "version": 3
   },
   "file_extension": ".py",
   "mimetype": "text/x-python",
   "name": "python",
   "nbconvert_exporter": "python",
   "pygments_lexer": "ipython3",
   "version": "3.10.11"
  },
  "orig_nbformat": 4
 },
 "nbformat": 4,
 "nbformat_minor": 2
}
