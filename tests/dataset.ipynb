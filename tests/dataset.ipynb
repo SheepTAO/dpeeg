{
 "cells": [
  {
   "cell_type": "code",
   "execution_count": 1,
   "metadata": {},
   "outputs": [
    {
     "name": "stderr",
     "output_type": "stream",
     "text": [
      "/home/tao/miniconda3/envs/bci/lib/python3.10/site-packages/torchvision/io/image.py:13: UserWarning: Failed to load image Python extension: '/home/tao/miniconda3/envs/bci/lib/python3.10/site-packages/torchvision/image.so: undefined symbol: _ZN5torch3jit17parseSchemaOrNameERKNSt7__cxx1112basic_stringIcSt11char_traitsIcESaIcEEE'If you don't plan on using image functionality from `torchvision.io`, you can ignore this warning. Otherwise, there might be something wrong with your environment. Did you have `libjpeg` or `libpng` installed before building `torchvision` from source?\n",
      "  warn(\n"
     ]
    }
   ],
   "source": [
    "import dpeeg\n",
    "from dpeeg import  transforms\n",
    "from dpeeg.datasets import  BCICIV2A"
   ]
  },
  {
   "cell_type": "code",
   "execution_count": 2,
   "metadata": {},
   "outputs": [],
   "source": [
    "dataset = BCICIV2A(tmin=0, tmax=4)\n",
    "\n",
    "trans = transforms.Sequential(\n",
    "    transforms.SplitTrainTest(\n",
    "        train_sessions=['session_1'], \n",
    "        test_sessions=['session_2'],\n",
    "    ),\n",
    "    transforms.ZscoreNorm(),\n",
    "    transforms.Unsqueeze(),\n",
    ")\n",
    "\n",
    "# trans(dataset)"
   ]
  },
  {
   "cell_type": "code",
   "execution_count": 3,
   "metadata": {},
   "outputs": [
    {
     "name": "stdout",
     "output_type": "stream",
     "text": [
      "1 {'session_1': [edata=(288, 22, 1000), label=(288,)], 'session_2': [edata=(288, 22, 1000), label=(288,)]}\n",
      "2 {'session_1': [edata=(288, 22, 1000), label=(288,)], 'session_2': [edata=(288, 22, 1000), label=(288,)]}\n",
      "3 {'session_1': [edata=(288, 22, 1000), label=(288,)], 'session_2': [edata=(288, 22, 1000), label=(288,)]}\n",
      "4 {'session_1': [edata=(288, 22, 1000), label=(288,)], 'session_2': [edata=(288, 22, 1000), label=(288,)]}\n",
      "5 {'session_1': [edata=(288, 22, 1000), label=(288,)], 'session_2': [edata=(288, 22, 1000), label=(288,)]}\n",
      "6 {'session_1': [edata=(288, 22, 1000), label=(288,)], 'session_2': [edata=(288, 22, 1000), label=(288,)]}\n",
      "7 {'session_1': [edata=(288, 22, 1000), label=(288,)], 'session_2': [edata=(288, 22, 1000), label=(288,)]}\n",
      "8 {'session_1': [edata=(288, 22, 1000), label=(288,)], 'session_2': [edata=(288, 22, 1000), label=(288,)]}\n",
      "9 {'session_1': [edata=(288, 22, 1000), label=(288,)], 'session_2': [edata=(288, 22, 1000), label=(288,)]}\n"
     ]
    }
   ],
   "source": [
    "for subject, eegdata in dataset.items():\n",
    "    print(subject, eegdata)"
   ]
  }
 ],
 "metadata": {
  "kernelspec": {
   "display_name": "bci",
   "language": "python",
   "name": "python3"
  },
  "language_info": {
   "codemirror_mode": {
    "name": "ipython",
    "version": 3
   },
   "file_extension": ".py",
   "mimetype": "text/x-python",
   "name": "python",
   "nbconvert_exporter": "python",
   "pygments_lexer": "ipython3",
   "version": "3.10.14"
  }
 },
 "nbformat": 4,
 "nbformat_minor": 2
}
