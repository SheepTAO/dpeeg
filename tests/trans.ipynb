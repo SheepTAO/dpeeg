{
 "cells": [
  {
   "cell_type": "code",
   "execution_count": 1,
   "metadata": {},
   "outputs": [
    {
     "data": {
      "text/plain": [
       "'0.4.0'"
      ]
     },
     "execution_count": 1,
     "metadata": {},
     "output_type": "execute_result"
    }
   ],
   "source": [
    "import dpeeg\n",
    "import numpy as np\n",
    "from dpeeg import transforms\n",
    "\n",
    "dpeeg.__version__"
   ]
  },
  {
   "cell_type": "code",
   "execution_count": 2,
   "metadata": {},
   "outputs": [
    {
     "name": "stdout",
     "output_type": "stream",
     "text": [
      "Train: [edata=(16, 3, 100), label=(16,)]\n",
      "Test : [edata=(16, 3, 100), label=(16,)]\n",
      "  Apply SlideWinAug(win=25, overlap=0, tmin=0, tmax=None) ...\n"
     ]
    },
    {
     "data": {
      "text/plain": [
       "Train: [edata=(64, 3, 25), label=(64,)]\n",
       "Test : [edata=(16, 3, 25), label=(16,)]"
      ]
     },
     "execution_count": 2,
     "metadata": {},
     "output_type": "execute_result"
    }
   ],
   "source": [
    "eegdata = dpeeg.EEGData(np.random.randn(16, 3, 100), np.random.randint(0, 3, 16))\n",
    "split_eegdata = dpeeg.SplitEEGData(eegdata.deepcopy(), eegdata.deepcopy())\n",
    "print(split_eegdata)\n",
    "transforms.SlideWinAug(25)(split_eegdata)"
   ]
  },
  {
   "cell_type": "code",
   "execution_count": 3,
   "metadata": {},
   "outputs": [
    {
     "data": {
      "text/plain": [
       "[edata=(32, 3, 10), label=(32,)]"
      ]
     },
     "execution_count": 3,
     "metadata": {},
     "output_type": "execute_result"
    }
   ],
   "source": [
    "eegdata = dpeeg.EEGData(np.random.randn(16, 3, 10), np.random.randint(0, 3, 16))\n",
    "split_eegdata = dpeeg.SplitEEGData(eegdata, eegdata)\n",
    "transforms.ToEEGData()(split_eegdata, verbose=False)"
   ]
  },
  {
   "cell_type": "code",
   "execution_count": 4,
   "metadata": {},
   "outputs": [
    {
     "data": {
      "text/plain": [
       "{'session_1': [edata=(16, 3, 10), label=(16,)],\n",
       " 'session_2': [edata=(16, 3, 10), label=(16,)]}"
      ]
     },
     "execution_count": 4,
     "metadata": {},
     "output_type": "execute_result"
    }
   ],
   "source": [
    "multi_sess_eegdata = dpeeg.MultiSessEEGData([eegdata, eegdata])\n",
    "transforms.ToEEGData()(multi_sess_eegdata, verbose=False)"
   ]
  }
 ],
 "metadata": {
  "kernelspec": {
   "display_name": "bci",
   "language": "python",
   "name": "python3"
  },
  "language_info": {
   "codemirror_mode": {
    "name": "ipython",
    "version": 3
   },
   "file_extension": ".py",
   "mimetype": "text/x-python",
   "name": "python",
   "nbconvert_exporter": "python",
   "pygments_lexer": "ipython3",
   "version": "3.12.4"
  }
 },
 "nbformat": 4,
 "nbformat_minor": 2
}
