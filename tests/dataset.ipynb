{
 "cells": [
  {
   "cell_type": "code",
   "execution_count": 1,
   "metadata": {},
   "outputs": [],
   "source": [
    "import dpeeg\n",
    "from dpeeg import transforms\n",
    "from dpeeg.datasets import BCICIV2A\n",
    "\n",
    "dpeeg.set_seed()"
   ]
  },
  {
   "cell_type": "code",
   "execution_count": 2,
   "metadata": {},
   "outputs": [],
   "source": [
    "dataset = BCICIV2A(subjects=[1, 2], tmin=0, tmax=4)\n",
    "net = dpeeg.models.EEGNet(nCh=22, nTime=1000, cls=4)\n",
    "\n",
    "trans = transforms.Sequential(\n",
    "    transforms.SplitTrainTest(\n",
    "        cross=True,\n",
    "        train_sessions=['session_1'], \n",
    "        test_sessions=['session_2'],\n",
    "    ),\n",
    "    transforms.ZscoreNorm(),\n",
    "    transforms.LabelMapping(),\n",
    "    transforms.Unsqueeze(),\n",
    ")"
   ]
  },
  {
   "cell_type": "code",
   "execution_count": null,
   "metadata": {},
   "outputs": [],
   "source": [
    "exp = dpeeg.exps.KFold(\n",
    "    trainer=dpeeg.trainer.ClassifierTwoStage(net, max_epochs_s1=500, max_epochs_s2=200, no_increase_epochs=20),\n",
    "    out_folder='out',\n",
    "    k=3,\n",
    ")\n",
    "result = exp.run(dataset, transforms=trans)"
   ]
  }
 ],
 "metadata": {
  "kernelspec": {
   "display_name": "bci",
   "language": "python",
   "name": "python3"
  },
  "language_info": {
   "codemirror_mode": {
    "name": "ipython",
    "version": 3
   },
   "file_extension": ".py",
   "mimetype": "text/x-python",
   "name": "python",
   "nbconvert_exporter": "python",
   "pygments_lexer": "ipython3",
   "version": "3.12.5"
  }
 },
 "nbformat": 4,
 "nbformat_minor": 2
}
