{
 "cells": [
  {
   "cell_type": "code",
   "execution_count": 1,
   "metadata": {
    "metadata": {}
   },
   "outputs": [
    {
     "name": "stderr",
     "output_type": "stream",
     "text": [
      "/home/tao/miniconda3/envs/bci/lib/python3.10/site-packages/torchvision/io/image.py:13: UserWarning: Failed to load image Python extension: '/home/tao/miniconda3/envs/bci/lib/python3.10/site-packages/torchvision/image.so: undefined symbol: _ZN5torch3jit17parseSchemaOrNameERKNSt7__cxx1112basic_stringIcSt11char_traitsIcESaIcEEE'If you don't plan on using image functionality from `torchvision.io`, you can ignore this warning. Otherwise, there might be something wrong with your environment. Did you have `libjpeg` or `libpng` installed before building `torchvision` from source?\n",
      "  warn(\n"
     ]
    },
    {
     "name": "stdout",
     "output_type": "stream",
     "text": [
      "0.3.6\n"
     ]
    }
   ],
   "source": [
    "import dpeeg\n",
    "import numpy as np\n",
    "\n",
    "dpeeg.set_seed()\n",
    "print(dpeeg.__version__)"
   ]
  },
  {
   "cell_type": "code",
   "execution_count": null,
   "metadata": {},
   "outputs": [
    {
     "name": "stdout",
     "output_type": "stream",
     "text": [
      "1 train\n",
      "2 train\n",
      "3 train\n"
     ]
    }
   ],
   "source": [
    "import numpy as np\n",
    "from dpeeg.data import transforms\n",
    "\n",
    "data = {\n",
    "    1: {'train': [np.random.rand(64, 3, 10), np.random.randint(2, size=64)],\n",
    "        'test':  [np.random.rand(16, 3, 10), np.random.randint(2, size=16)]},\n",
    "    2: {'train': [np.random.rand(64, 3, 10), np.random.randint(2, size=64)],\n",
    "        'test':  [np.random.rand(16, 3, 10), np.random.randint(2, size=16)]},\n",
    "    3: {'train': [np.random.rand(64, 3, 10), np.random.randint(2, size=64)],\n",
    "        'test':  [np.random.rand(16, 3, 10), np.random.randint(2, size=16)]},\n",
    "}\n",
    "\n",
    "for sub, mode, sub_data in transforms.yield_data(data, 'train'):\n",
    "    print(sub, mode)"
   ]
  },
  {
   "cell_type": "code",
   "execution_count": 2,
   "metadata": {
    "metadata": {}
   },
   "outputs": [
    {
     "name": "stdout",
     "output_type": "stream",
     "text": [
      "[[[0.37454012 0.95071431 0.73199394 0.59865848 0.15601864 0.15599452\n",
      "   0.05808361 0.86617615]\n",
      "  [0.60111501 0.70807258 0.02058449 0.96990985 0.83244264 0.21233911\n",
      "   0.18182497 0.18340451]\n",
      "  [0.30424224 0.52475643 0.43194502 0.29122914 0.61185289 0.13949386\n",
      "   0.29214465 0.36636184]]\n",
      "\n",
      " [[0.45606998 0.78517596 0.19967378 0.51423444 0.59241457 0.04645041\n",
      "   0.60754485 0.17052412]\n",
      "  [0.06505159 0.94888554 0.96563203 0.80839735 0.30461377 0.09767211\n",
      "   0.68423303 0.44015249]\n",
      "  [0.12203823 0.49517691 0.03438852 0.9093204  0.25877998 0.66252228\n",
      "   0.31171108 0.52006802]]\n",
      "\n",
      " [[0.54671028 0.18485446 0.96958463 0.77513282 0.93949894 0.89482735\n",
      "   0.59789998 0.92187424]\n",
      "  [0.0884925  0.19598286 0.04522729 0.32533033 0.38867729 0.27134903\n",
      "   0.82873751 0.35675333]\n",
      "  [0.28093451 0.54269608 0.14092422 0.80219698 0.07455064 0.98688694\n",
      "   0.77224477 0.19871568]]\n",
      "\n",
      " [[0.00552212 0.81546143 0.70685734 0.72900717 0.77127035 0.07404465\n",
      "   0.35846573 0.11586906]\n",
      "  [0.86310343 0.62329813 0.33089802 0.06355835 0.31098232 0.32518332\n",
      "   0.72960618 0.63755747]\n",
      "  [0.88721274 0.47221493 0.11959425 0.71324479 0.76078505 0.5612772\n",
      "   0.77096718 0.4937956 ]]\n",
      "\n",
      " [[0.52273283 0.42754102 0.02541913 0.10789143 0.03142919 0.63641041\n",
      "   0.31435598 0.50857069]\n",
      "  [0.90756647 0.24929223 0.41038292 0.75555114 0.22879817 0.07697991\n",
      "   0.28975145 0.16122129]\n",
      "  [0.92969765 0.80812038 0.63340376 0.87146059 0.80367208 0.18657006\n",
      "   0.892559   0.53934224]]] [1 0 1 0 0]\n",
      "--------------------------------------------------\n",
      "[[[0.52273283 0.42754102 0.02541913 0.10789143 0.03142919 0.63641041\n",
      "   0.31435598 0.50857069]\n",
      "  [0.90756647 0.24929223 0.41038292 0.75555114 0.22879817 0.07697991\n",
      "   0.28975145 0.16122129]\n",
      "  [0.92969765 0.80812038 0.63340376 0.87146059 0.80367208 0.18657006\n",
      "   0.892559   0.53934224]]\n",
      "\n",
      " [[0.52273283 0.42754102 0.70685734 0.72900717 0.         0.04645041\n",
      "   0.60754485 0.        ]\n",
      "  [0.90756647 0.24929223 0.33089802 0.06355835 0.         0.09767211\n",
      "   0.68423303 0.        ]\n",
      "  [0.92969765 0.80812038 0.11959425 0.71324479 0.         0.66252228\n",
      "   0.31171108 0.        ]]\n",
      "\n",
      " [[0.54671028 0.18485446 0.96958463 0.77513282 0.93949894 0.89482735\n",
      "   0.59789998 0.92187424]\n",
      "  [0.0884925  0.19598286 0.04522729 0.32533033 0.38867729 0.27134903\n",
      "   0.82873751 0.35675333]\n",
      "  [0.28093451 0.54269608 0.14092422 0.80219698 0.07455064 0.98688694\n",
      "   0.77224477 0.19871568]]\n",
      "\n",
      " [[0.00552212 0.81546143 0.70685734 0.72900717 0.77127035 0.07404465\n",
      "   0.35846573 0.11586906]\n",
      "  [0.86310343 0.62329813 0.33089802 0.06355835 0.31098232 0.32518332\n",
      "   0.72960618 0.63755747]\n",
      "  [0.88721274 0.47221493 0.11959425 0.71324479 0.76078505 0.5612772\n",
      "   0.77096718 0.4937956 ]]\n",
      "\n",
      " [[0.00552212 0.81546143 0.         0.         0.59241457 0.04645041\n",
      "   0.60754485 0.17052412]\n",
      "  [0.86310343 0.62329813 0.         0.         0.30461377 0.09767211\n",
      "   0.68423303 0.44015249]\n",
      "  [0.88721274 0.47221493 0.         0.         0.25877998 0.66252228\n",
      "   0.31171108 0.52006802]]\n",
      "\n",
      " [[0.37454012 0.95071431 0.73199394 0.59865848 0.15601864 0.15599452\n",
      "   0.05808361 0.86617615]\n",
      "  [0.60111501 0.70807258 0.02058449 0.96990985 0.83244264 0.21233911\n",
      "   0.18182497 0.18340451]\n",
      "  [0.30424224 0.52475643 0.43194502 0.29122914 0.61185289 0.13949386\n",
      "   0.29214465 0.36636184]]\n",
      "\n",
      " [[0.54671028 0.         0.96958463 0.77513282 0.93949894 0.89482735\n",
      "   0.59789998 0.        ]\n",
      "  [0.0884925  0.         0.04522729 0.32533033 0.38867729 0.27134903\n",
      "   0.82873751 0.        ]\n",
      "  [0.28093451 0.         0.14092422 0.80219698 0.07455064 0.98688694\n",
      "   0.77224477 0.        ]]\n",
      "\n",
      " [[0.54671028 0.18485446 0.         0.         0.93949894 0.89482735\n",
      "   0.         0.86617615]\n",
      "  [0.0884925  0.19598286 0.         0.         0.38867729 0.27134903\n",
      "   0.         0.18340451]\n",
      "  [0.28093451 0.54269608 0.         0.         0.07455064 0.98688694\n",
      "   0.         0.36636184]]\n",
      "\n",
      " [[0.45606998 0.78517596 0.19967378 0.51423444 0.59241457 0.04645041\n",
      "   0.60754485 0.17052412]\n",
      "  [0.06505159 0.94888554 0.96563203 0.80839735 0.30461377 0.09767211\n",
      "   0.68423303 0.44015249]\n",
      "  [0.12203823 0.49517691 0.03438852 0.9093204  0.25877998 0.66252228\n",
      "   0.31171108 0.52006802]]\n",
      "\n",
      " [[0.         0.78517596 0.02541913 0.         0.         0.63641041\n",
      "   0.         0.        ]\n",
      "  [0.         0.94888554 0.41038292 0.         0.         0.07697991\n",
      "   0.         0.        ]\n",
      "  [0.         0.49517691 0.63340376 0.         0.         0.18657006\n",
      "   0.         0.        ]]] [0 0 1 0 0 1 1 1 0 0]\n"
     ]
    }
   ],
   "source": [
    "import numpy as np\n",
    "from dpeeg.data.functions import segmentation_and_reconstruction\n",
    "\n",
    "data = np.random.rand(5, 3, 8)\n",
    "label = np.random.randint(0, 2, 5)\n",
    "print(data, label)\n",
    "print('-'*50)\n",
    "aug_data, aug_label = segmentation_and_reconstruction(data, label, samples=2, multiply=1, dropout=0.3, sub_samples=1)\n",
    "print(aug_data, aug_label)"
   ]
  },
  {
   "cell_type": "code",
   "execution_count": 1,
   "metadata": {
    "metadata": {}
   },
   "outputs": [
    {
     "name": "stderr",
     "output_type": "stream",
     "text": [
      "/home/tao/miniconda3/envs/bci/lib/python3.10/site-packages/torchvision/io/image.py:13: UserWarning: Failed to load image Python extension: '/home/tao/miniconda3/envs/bci/lib/python3.10/site-packages/torchvision/image.so: undefined symbol: _ZN5torch3jit17parseSchemaOrNameERKNSt7__cxx1112basic_stringIcSt11char_traitsIcESaIcEEE'If you don't plan on using image functionality from `torchvision.io`, you can ignore this warning. Otherwise, there might be something wrong with your environment. Did you have `libjpeg` or `libpng` installed before building `torchvision` from source?\n",
      "  warn(\n"
     ]
    },
    {
     "name": "stdout",
     "output_type": "stream",
     "text": [
      "cuda:1 cuda:1\n",
      "cuda:1 cuda:1\n",
      "cuda:1 cuda:1\n",
      "cuda:1 cuda:1\n",
      "cuda:1 cuda:1\n"
     ]
    }
   ],
   "source": [
    "import torch\n",
    "import numpy as np\n",
    "from dpeeg.data.functions import to_tensor\n",
    "from torch.utils.data import DataLoader, TensorDataset, ConcatDataset\n",
    "\n",
    "device = torch.device('cuda:1')\n",
    "batch_size = 128\n",
    "\n",
    "def _data_loader(*datasets, keep_data_gpu : bool = True) -> DataLoader:\n",
    "    '''Wrap multiple sets of data and labels and return DataLoader.\n",
    "\n",
    "    Parameters\n",
    "    ----------\n",
    "    datasets : sequence of data (N, ...) and labels (N,)\n",
    "        Sequence consisting of each piece of data and label. Can be ndarray\n",
    "        and tensor.\n",
    "    '''\n",
    "    if len(datasets) == 0:\n",
    "        raise ValueError('At least one dataset required as input.')\n",
    "\n",
    "    # dataset wrapping tensors\n",
    "    td = []\n",
    "    for i, dataset in enumerate(datasets):\n",
    "        if not (isinstance(dataset, (list, tuple)) and len(dataset) == 2):\n",
    "            raise ValueError(f'Missing data or label in {i}th group.')\n",
    "\n",
    "        data, label = to_tensor(dataset[0], dataset[1])\n",
    "        if keep_data_gpu:\n",
    "            data, label = data.to(device), label.to(device)\n",
    "        td.append(TensorDataset(data, label))\n",
    "    td = ConcatDataset(td)\n",
    "\n",
    "    if keep_data_gpu:\n",
    "        data_loader = DataLoader(td, batch_size, True)\n",
    "    else:\n",
    "        data_loader = DataLoader(td, batch_size, True)\n",
    "    return data_loader\n",
    "\n",
    "data = {\n",
    "    1: {'train': [np.random.rand(588, 22, 1000), np.random.randint(2, size=588)],\n",
    "        'test':  [np.random.rand(244, 22, 1000), np.random.randint(2, size=244)]},\n",
    "    2: {'train': [np.random.rand(588, 22, 1000), np.random.randint(2, size=588)],\n",
    "        'test':  [np.random.rand(244, 22, 1000), np.random.randint(2, size=244)]},\n",
    "    3: {'train': [np.random.rand(588, 22, 1000), np.random.randint(2, size=588)],\n",
    "        'test':  [np.random.rand(244, 22, 1000), np.random.randint(2, size=244)]},\n",
    "}\n",
    "\n",
    "train_loader = _data_loader(data[1]['train'], keep_data_gpu=True)\n",
    "for data, label in train_loader:\n",
    "    data, label = data.to(device), label.to(device)\n",
    "    print(data.device, label.device)"
   ]
  }
 ],
 "metadata": {
  "kernelspec": {
   "display_name": "bci",
   "language": "python",
   "name": "python3"
  },
  "language_info": {
   "codemirror_mode": {
    "name": "ipython",
    "version": 3
   },
   "file_extension": ".py",
   "mimetype": "text/x-python",
   "name": "python",
   "nbconvert_exporter": "python",
   "pygments_lexer": "ipython3",
   "version": "3.10.13"
  },
  "orig_nbformat": 4
 },
 "nbformat": 4,
 "nbformat_minor": 2
}
