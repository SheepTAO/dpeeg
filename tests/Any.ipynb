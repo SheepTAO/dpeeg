{
 "cells": [
  {
   "cell_type": "code",
   "execution_count": 1,
   "metadata": {},
   "outputs": [
    {
     "name": "stderr",
     "output_type": "stream",
     "text": [
      "/home/tao/miniconda3/envs/bci/lib/python3.10/site-packages/torchvision/io/image.py:13: UserWarning: Failed to load image Python extension: '/home/tao/miniconda3/envs/bci/lib/python3.10/site-packages/torchvision/image.so: undefined symbol: _ZN5torch3jit17parseSchemaOrNameERKNSt7__cxx1112basic_stringIcSt11char_traitsIcESaIcEEE'If you don't plan on using image functionality from `torchvision.io`, you can ignore this warning. Otherwise, there might be something wrong with your environment. Did you have `libjpeg` or `libpng` installed before building `torchvision` from source?\n",
      "  warn(\n"
     ]
    }
   ],
   "source": [
    "import os\n",
    "from dpeeg.data.loaddata import load_data\n",
    "\n",
    "os.environ['http_proxy'] = \"http://10.16.10.202:7890\"\n",
    "os.environ['https_proxy'] = \"http://10.16.10.202:7890\"\n",
    "\n",
    "load_data(subject=1, dataset='bciciv2a')"
   ]
  },
  {
   "cell_type": "code",
   "execution_count": 2,
   "metadata": {},
   "outputs": [],
   "source": [
    "from scipy.io import loadmat\n",
    "\n",
    "data = loadmat('/home/tao/dpeeg/datasets/bciciv2a/A01T.mat', struct_as_record=False, squeeze_me=True)"
   ]
  },
  {
   "cell_type": "code",
   "execution_count": 9,
   "metadata": {},
   "outputs": [
    {
     "data": {
      "text/plain": [
       "array(['left hand', 'right hand', 'feet', 'tongue'], dtype=object)"
      ]
     },
     "execution_count": 9,
     "metadata": {},
     "output_type": "execute_result"
    }
   ],
   "source": [
    "run_array = data['data']\n",
    "run_array[1].classes"
   ]
  },
  {
   "cell_type": "code",
   "execution_count": 7,
   "metadata": {},
   "outputs": [
    {
     "name": "stdout",
     "output_type": "stream",
     "text": [
      "TEAT B\n",
      "init A\n",
      "init B\n",
      "func B\n"
     ]
    }
   ],
   "source": [
    "class A:\n",
    "    _code = None\n",
    "    def __init__(self) -> None:\n",
    "        print(self._code)\n",
    "        print('init A')\n",
    "    \n",
    "    def func(self, a = 2):\n",
    "        print('func A')\n",
    "\n",
    "class B(A):\n",
    "    _code = 'TEAT B'\n",
    "    def __init__(self) -> None:\n",
    "        super().__init__()\n",
    "        print('init B')\n",
    "    \n",
    "    def func(self):\n",
    "        print('func B')\n",
    "    \n",
    "b = B()\n",
    "b.func()"
   ]
  }
 ],
 "metadata": {
  "kernelspec": {
   "display_name": "bci",
   "language": "python",
   "name": "python3"
  },
  "language_info": {
   "codemirror_mode": {
    "name": "ipython",
    "version": 3
   },
   "file_extension": ".py",
   "mimetype": "text/x-python",
   "name": "python",
   "nbconvert_exporter": "python",
   "pygments_lexer": "ipython3",
   "version": "3.10.13"
  }
 },
 "nbformat": 4,
 "nbformat_minor": 2
}
