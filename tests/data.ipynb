{
 "cells": [
  {
   "cell_type": "code",
   "execution_count": 1,
   "metadata": {},
   "outputs": [
    {
     "name": "stdout",
     "output_type": "stream",
     "text": [
      "0.2.5\n"
     ]
    }
   ],
   "source": [
    "import os\n",
    "import sys\n",
    "\n",
    "BOOTPATH = os.path.dirname(sys.path[0])\n",
    "sys.path.insert(0, BOOTPATH)\n",
    "import dpeeg\n",
    "print(dpeeg.__version__)"
   ]
  },
  {
   "cell_type": "code",
   "execution_count": 2,
   "metadata": {},
   "outputs": [],
   "source": [
    "import dpeeg\n",
    "from dpeeg.data import datasets, transforms"
   ]
  },
  {
   "cell_type": "code",
   "execution_count": 3,
   "metadata": {},
   "outputs": [
    {
     "data": {
      "text/plain": [
       "Compose(\n",
       " (0): Normalization(mode=z-score)\n",
       " (1): ApplyFunc(func=<function <lambda> at 0x7efcc253e200>)\n",
       " (2): SlideWin(win=250, overlap=25)\n",
       ")"
      ]
     },
     "execution_count": 3,
     "metadata": {},
     "output_type": "execute_result"
    }
   ],
   "source": [
    "import numpy as np\n",
    "\n",
    "trans = transforms.ComposeTransforms([\n",
    "    transforms.Normalization(),\n",
    "    transforms.ApplyFunc(lambda x: np.expand_dims(x, 1)),\n",
    "    transforms.SlideWin(250, 25)\n",
    "])\n",
    "trans"
   ]
  },
  {
   "cell_type": "code",
   "execution_count": 4,
   "metadata": {},
   "outputs": [
    {
     "name": "stdout",
     "output_type": "stream",
     "text": [
      "Tensorflow not install, you could not use those pipelines\n",
      "To use the get_shape_from_baseconcar, InputShapeSetterEEG, BraindecodeDatasetLoaderyou need to install `braindecode`.`pip install braindecode` or Please refer to `https://braindecode.org`.\n"
     ]
    },
    {
     "name": "stderr",
     "output_type": "stream",
     "text": [
      "Transform dataset ...\n",
      "----------------------\n",
      "[SplitDataset(testSize=0.2, seed=42) starting ...]\n",
      "[Normalization(mode=z-score) starting ...]\n",
      "[SlideWin(win=250, overlap=25) starting ...]\n",
      "Sliding window to sub_1.\n",
      "Sliding window with win:250 and overlap:25.\n",
      " Intercept data from 0 to 250.\n",
      " Intercept data from 225 to 475.\n",
      " Intercept data from 450 to 700.\n",
      " Intercept data from 675 to 925.\n",
      "Sliding window with win:250 and overlap:25.\n",
      " Intercept data from 0 to 250.\n",
      " Intercept data from 225 to 475.\n",
      " Intercept data from 450 to 700.\n",
      " Intercept data from 675 to 925.\n",
      "Sliding window to sub_2.\n",
      "Sliding window with win:250 and overlap:25.\n",
      " Intercept data from 0 to 250.\n",
      " Intercept data from 225 to 475.\n",
      " Intercept data from 450 to 700.\n",
      " Intercept data from 675 to 925.\n",
      "Sliding window with win:250 and overlap:25.\n",
      " Intercept data from 0 to 250.\n",
      " Intercept data from 225 to 475.\n",
      " Intercept data from 450 to 700.\n",
      " Intercept data from 675 to 925.\n",
      "Sliding window to sub_3.\n",
      "Sliding window with win:250 and overlap:25.\n",
      " Intercept data from 0 to 250.\n",
      " Intercept data from 225 to 475.\n",
      " Intercept data from 450 to 700.\n",
      " Intercept data from 675 to 925.\n",
      "Sliding window with win:250 and overlap:25.\n",
      " Intercept data from 0 to 250.\n",
      " Intercept data from 225 to 475.\n",
      " Intercept data from 450 to 700.\n",
      " Intercept data from 675 to 925.\n",
      "Sliding window to sub_4.\n",
      "Sliding window with win:250 and overlap:25.\n",
      " Intercept data from 0 to 250.\n",
      " Intercept data from 225 to 475.\n",
      " Intercept data from 450 to 700.\n",
      " Intercept data from 675 to 925.\n",
      "Sliding window with win:250 and overlap:25.\n",
      " Intercept data from 0 to 250.\n",
      " Intercept data from 225 to 475.\n",
      " Intercept data from 450 to 700.\n",
      " Intercept data from 675 to 925.\n",
      "Sliding window to sub_5.\n",
      "Sliding window with win:250 and overlap:25.\n",
      " Intercept data from 0 to 250.\n",
      " Intercept data from 225 to 475.\n",
      " Intercept data from 450 to 700.\n",
      " Intercept data from 675 to 925.\n",
      "Sliding window with win:250 and overlap:25.\n",
      " Intercept data from 0 to 250.\n",
      " Intercept data from 225 to 475.\n",
      " Intercept data from 450 to 700.\n",
      " Intercept data from 675 to 925.\n",
      "Sliding window to sub_6.\n",
      "Sliding window with win:250 and overlap:25.\n",
      " Intercept data from 0 to 250.\n",
      " Intercept data from 225 to 475.\n",
      " Intercept data from 450 to 700.\n",
      " Intercept data from 675 to 925.\n",
      "Sliding window with win:250 and overlap:25.\n",
      " Intercept data from 0 to 250.\n",
      " Intercept data from 225 to 475.\n",
      " Intercept data from 450 to 700.\n",
      " Intercept data from 675 to 925.\n",
      "Sliding window to sub_7.\n",
      "Sliding window with win:250 and overlap:25.\n",
      " Intercept data from 0 to 250.\n",
      " Intercept data from 225 to 475.\n",
      " Intercept data from 450 to 700.\n",
      " Intercept data from 675 to 925.\n",
      "Sliding window with win:250 and overlap:25.\n",
      " Intercept data from 0 to 250.\n",
      " Intercept data from 225 to 475.\n",
      " Intercept data from 450 to 700.\n",
      " Intercept data from 675 to 925.\n",
      "Sliding window to sub_8.\n",
      "Sliding window with win:250 and overlap:25.\n",
      " Intercept data from 0 to 250.\n",
      " Intercept data from 225 to 475.\n",
      " Intercept data from 450 to 700.\n",
      " Intercept data from 675 to 925.\n",
      "Sliding window with win:250 and overlap:25.\n",
      " Intercept data from 0 to 250.\n",
      " Intercept data from 225 to 475.\n",
      " Intercept data from 450 to 700.\n",
      " Intercept data from 675 to 925.\n",
      "Sliding window to sub_9.\n",
      "Sliding window with win:250 and overlap:25.\n",
      " Intercept data from 0 to 250.\n",
      " Intercept data from 225 to 475.\n",
      " Intercept data from 450 to 700.\n",
      " Intercept data from 675 to 925.\n",
      "Sliding window with win:250 and overlap:25.\n",
      " Intercept data from 0 to 250.\n",
      " Intercept data from 225 to 475.\n",
      " Intercept data from 450 to 700.\n",
      " Intercept data from 675 to 925.\n",
      "----------------\n",
      "Transform done.\n",
      "Loading dataset done.\n"
     ]
    },
    {
     "data": {
      "text/plain": [
       "(920, 1, 22, 250)"
      ]
     },
     "execution_count": 4,
     "metadata": {},
     "output_type": "execute_result"
    }
   ],
   "source": [
    "data = datasets.BCICIV2A(mode=0, transforms=trans, verbose='WARNING')\n",
    "data.size\n",
    "# net = Net(22, 250, 4)\n",
    "# trainer = dpeeg.Train(net, nGPU=1, dataSize=data.size)"
   ]
  }
 ],
 "metadata": {
  "kernelspec": {
   "display_name": "bci",
   "language": "python",
   "name": "python3"
  },
  "language_info": {
   "codemirror_mode": {
    "name": "ipython",
    "version": 3
   },
   "file_extension": ".py",
   "mimetype": "text/x-python",
   "name": "python",
   "nbconvert_exporter": "python",
   "pygments_lexer": "ipython3",
   "version": "3.10.11"
  },
  "orig_nbformat": 4
 },
 "nbformat": 4,
 "nbformat_minor": 2
}
