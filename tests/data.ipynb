{
 "cells": [
  {
   "cell_type": "code",
   "execution_count": 1,
   "metadata": {
    "metadata": {}
   },
   "outputs": [
    {
     "name": "stdout",
     "output_type": "stream",
     "text": [
      "0.4.0\n"
     ]
    }
   ],
   "source": [
    "import dpeeg\n",
    "from dpeeg import transforms\n",
    "import numpy as np\n",
    "\n",
    "print(dpeeg.__version__)"
   ]
  },
  {
   "cell_type": "code",
   "execution_count": 2,
   "metadata": {},
   "outputs": [
    {
     "data": {
      "text/plain": [
       "[edata=(0,), label=(0,)]"
      ]
     },
     "execution_count": 2,
     "metadata": {},
     "output_type": "execute_result"
    }
   ],
   "source": [
    "dpeeg.EEGData()"
   ]
  },
  {
   "cell_type": "code",
   "execution_count": 4,
   "metadata": {},
   "outputs": [
    {
     "data": {
      "text/plain": [
       "[edata=(16, 3, 20), label=(16,), adj=(3, 3)]"
      ]
     },
     "execution_count": 4,
     "metadata": {},
     "output_type": "execute_result"
    }
   ],
   "source": [
    "dpeeg.EEGData(\n",
    "    edata=np.random.rand(16, 3, 20),\n",
    "    label=np.random.randint(0, 3, 16),\n",
    "    adj=np.random.rand(3, 3)\n",
    ")"
   ]
  },
  {
   "cell_type": "code",
   "execution_count": 2,
   "metadata": {},
   "outputs": [
    {
     "data": {
      "text/plain": [
       "(3, 10)"
      ]
     },
     "execution_count": 2,
     "metadata": {},
     "output_type": "execute_result"
    }
   ],
   "source": [
    "eegdata = dpeeg.EEGData(np.random.randn(16, 3, 10), np.random.randint(0, 3, 16))\n",
    "eegdata.shape"
   ]
  },
  {
   "cell_type": "code",
   "execution_count": 3,
   "metadata": {},
   "outputs": [
    {
     "data": {
      "text/plain": [
       "Train: [edata=(12, 3, 10), label=(12,)]\n",
       "Test : [edata=(4, 3, 10), label=(4,)]"
      ]
     },
     "execution_count": 3,
     "metadata": {},
     "output_type": "execute_result"
    }
   ],
   "source": [
    "eegdata = dpeeg.EEGData(np.random.randn(16, 3, 10), np.random.randint(0, 3, 16))\n",
    "transforms.SplitTrainTest(0.2)(eegdata, verbose=False)"
   ]
  },
  {
   "cell_type": "code",
   "execution_count": 4,
   "metadata": {},
   "outputs": [
    {
     "data": {
      "text/plain": [
       "Train: [edata=(32, 3, 10), label=(32,)]\n",
       "Test : [edata=(16, 3, 10), label=(16,)]"
      ]
     },
     "execution_count": 4,
     "metadata": {},
     "output_type": "execute_result"
    }
   ],
   "source": [
    "multi_sess_eegdata = dpeeg.MultiSessEEGData([eegdata.copy() for _ in range(4)])\n",
    "transforms.SplitTrainTest(\n",
    "    cross=True, \n",
    "    train_sessions=[f\"session_{i + 1}\" for i in range(2)], \n",
    "    test_sessions=[f\"session_4\"]\n",
    ")(multi_sess_eegdata, verbose=False)"
   ]
  },
  {
   "cell_type": "code",
   "execution_count": 5,
   "metadata": {},
   "outputs": [
    {
     "data": {
      "text/plain": [
       "Train: [edata=(32, 3, 10), label=(32,)]\n",
       "Test : [edata=(32, 3, 10), label=(32,)]"
      ]
     },
     "execution_count": 5,
     "metadata": {},
     "output_type": "execute_result"
    }
   ],
   "source": [
    "transforms.SplitTrainTest(0.5)(multi_sess_eegdata, verbose=False)"
   ]
  },
  {
   "cell_type": "code",
   "execution_count": 6,
   "metadata": {},
   "outputs": [
    {
     "name": "stdout",
     "output_type": "stream",
     "text": [
      "  Apply MinMaxNorm(min=None, max=None, dim=None) ...\n"
     ]
    },
    {
     "data": {
      "text/plain": [
       "[edata=(16, 3, 10), label=(16,)]"
      ]
     },
     "execution_count": 6,
     "metadata": {},
     "output_type": "execute_result"
    }
   ],
   "source": [
    "transforms.MinMaxNorm()(eegdata)"
   ]
  },
  {
   "cell_type": "code",
   "execution_count": 7,
   "metadata": {},
   "outputs": [
    {
     "name": "stdout",
     "output_type": "stream",
     "text": [
      "  Apply ZscoreNorm(mean=None, std=None, dim=None) ...\n"
     ]
    },
    {
     "data": {
      "text/plain": [
       "[edata=(16, 3, 10), label=(16,)]"
      ]
     },
     "execution_count": 7,
     "metadata": {},
     "output_type": "execute_result"
    }
   ],
   "source": [
    "transforms.ZscoreNorm()(eegdata)"
   ]
  },
  {
   "cell_type": "code",
   "execution_count": 8,
   "metadata": {},
   "outputs": [
    {
     "data": {
      "text/plain": [
       "[edata=(16, 3, 5), label=(16,)]"
      ]
     },
     "execution_count": 8,
     "metadata": {},
     "output_type": "execute_result"
    }
   ],
   "source": [
    "eegdata = dpeeg.EEGData(np.random.randn(16, 3, 10), np.random.randint(0, 3, 16))\n",
    "transforms.Crop(4, 9)(eegdata, verbose=False)"
   ]
  },
  {
   "cell_type": "code",
   "execution_count": 9,
   "metadata": {},
   "outputs": [
    {
     "data": {
      "text/plain": [
       "[edata=(16, 3, 1, 10), label=(16,)]"
      ]
     },
     "execution_count": 9,
     "metadata": {},
     "output_type": "execute_result"
    }
   ],
   "source": [
    "eegdata = dpeeg.EEGData(np.random.randn(16, 3, 10), np.random.randint(0, 3, 16))\n",
    "transforms.Unsqueeze(dim=2)(eegdata, verbose=False)"
   ]
  },
  {
   "cell_type": "code",
   "execution_count": 10,
   "metadata": {},
   "outputs": [
    {
     "data": {
      "text/plain": [
       "[edata=(16, 9, 3, 10), label=(16,)]"
      ]
     },
     "execution_count": 10,
     "metadata": {},
     "output_type": "execute_result"
    }
   ],
   "source": [
    "eegdata = dpeeg.EEGData(np.random.randn(16, 3, 10), np.random.randint(0, 3, 16))\n",
    "transforms.FilterBank(250)(eegdata, verbose=False)"
   ]
  },
  {
   "cell_type": "code",
   "execution_count": 11,
   "metadata": {},
   "outputs": [
    {
     "data": {
      "text/plain": [
       "[edata=(1, 16, 3, 10), label=(16,)]"
      ]
     },
     "execution_count": 11,
     "metadata": {},
     "output_type": "execute_result"
    }
   ],
   "source": [
    "eegdata = dpeeg.EEGData(np.random.randn(16, 3, 10), np.random.randint(0, 3, 16))\n",
    "def expand_dim(data, dim=1):\n",
    "    data[\"edata\"] = np.expand_dims(data[\"edata\"], dim)\n",
    "transforms.ApplyFunc(expand_dim, dim=0)(eegdata, verbose=False)"
   ]
  },
  {
   "cell_type": "code",
   "execution_count": 12,
   "metadata": {},
   "outputs": [
    {
     "data": {
      "text/plain": [
       "Train: [edata=(1, 1, 16, 3, 10), label=(16,)]\n",
       "Test : [edata=(1, 16, 3, 10), label=(16,)]"
      ]
     },
     "execution_count": 12,
     "metadata": {},
     "output_type": "execute_result"
    }
   ],
   "source": [
    "split_eegdata = dpeeg.SplitEEGData(eegdata, eegdata.copy())\n",
    "transforms.ApplyFunc(expand_dim, [\"train\"])(split_eegdata, verbose=False)"
   ]
  },
  {
   "cell_type": "code",
   "execution_count": 13,
   "metadata": {},
   "outputs": [
    {
     "data": {
      "text/plain": [
       "[edata=(16, 3, 10), label=(16,)]"
      ]
     },
     "execution_count": 13,
     "metadata": {},
     "output_type": "execute_result"
    }
   ],
   "source": [
    "eegdata = dpeeg.EEGData(np.random.randn(16, 1, 3, 10), np.random.randint(0, 3, 16))\n",
    "transforms.Squeeze()(eegdata, verbose=False)"
   ]
  },
  {
   "cell_type": "code",
   "execution_count": 14,
   "metadata": {},
   "outputs": [
    {
     "data": {
      "text/plain": [
       "array([0, 1, 2, 0, 1, 2, 1, 1, 2, 1, 0, 2, 0, 2, 0, 0])"
      ]
     },
     "execution_count": 14,
     "metadata": {},
     "output_type": "execute_result"
    }
   ],
   "source": [
    "eegdata = dpeeg.EEGData(np.random.randn(16, 3, 10), np.random.randint(0, 3, 16))\n",
    "eegdata['label']"
   ]
  },
  {
   "cell_type": "code",
   "execution_count": 15,
   "metadata": {},
   "outputs": [
    {
     "data": {
      "text/plain": [
       "array([1, 0, 1, 0, 1, 0, 1, 0, 0, 1])"
      ]
     },
     "execution_count": 15,
     "metadata": {},
     "output_type": "execute_result"
    }
   ],
   "source": [
    "transforms.PickLabel(np.array([1, 2]))(eegdata, verbose=False)\n",
    "eegdata['label']"
   ]
  },
  {
   "cell_type": "code",
   "execution_count": 16,
   "metadata": {},
   "outputs": [
    {
     "data": {
      "text/plain": [
       "[edata=(12, 3, 10), label=(12,), adj=(12, 3, 3), pcc=(16, 3, 3)]"
      ]
     },
     "execution_count": 16,
     "metadata": {},
     "output_type": "execute_result"
    }
   ],
   "source": [
    "eegdata = dpeeg.EEGData(\n",
    "    edata=np.random.randn(16, 3, 10),\n",
    "    label=np.random.randint(0, 3, 16),\n",
    "    adj=np.random.randn(16, 3, 3),\n",
    "    pcc=np.random.randn(16, 3, 3),\n",
    ")\n",
    "transforms.PickLabel(\n",
    "    np.array([0, 1]), keys=[\"edata\", \"adj\"]\n",
    ")(eegdata, verbose=False)"
   ]
  },
  {
   "cell_type": "code",
   "execution_count": 17,
   "metadata": {},
   "outputs": [
    {
     "data": {
      "text/plain": [
       "array([2, 3, 3, 3, 3, 3, 4, 2, 3, 2, 2, 3, 4, 3, 4, 4])"
      ]
     },
     "execution_count": 17,
     "metadata": {},
     "output_type": "execute_result"
    }
   ],
   "source": [
    "eegdata = dpeeg.EEGData(np.random.randn(16, 3, 10), np.random.randint(2, 5, 16))\n",
    "eegdata['label']"
   ]
  },
  {
   "cell_type": "code",
   "execution_count": 18,
   "metadata": {},
   "outputs": [
    {
     "data": {
      "text/plain": [
       "array([0, 0, 0, 0, 0, 0, 1, 0, 0, 0, 0, 0, 1, 0, 1, 1])"
      ]
     },
     "execution_count": 18,
     "metadata": {},
     "output_type": "execute_result"
    }
   ],
   "source": [
    "transforms.LabelMapping(np.array([[2, 3, 4], [0, 0, 1]]))(eegdata, verbose=False)\n",
    "eegdata[\"label\"]"
   ]
  },
  {
   "cell_type": "code",
   "execution_count": 19,
   "metadata": {},
   "outputs": [
    {
     "data": {
      "text/plain": [
       "Train: [edata=(64, 3, 10), label=(64,)]\n",
       "Test : [edata=(16, 3, 10), label=(16,)]"
      ]
     },
     "execution_count": 19,
     "metadata": {},
     "output_type": "execute_result"
    }
   ],
   "source": [
    "eegdata = dpeeg.EEGData(np.random.randn(16, 3, 10), np.random.randint(0, 3, 16))\n",
    "split_eegdata = dpeeg.SplitEEGData(eegdata.copy(), eegdata.copy())\n",
    "transforms.SegRecTime(2, 3)(split_eegdata, verbose=False)"
   ]
  },
  {
   "cell_type": "code",
   "execution_count": 20,
   "metadata": {},
   "outputs": [
    {
     "data": {
      "text/plain": [
       "Train: [edata=(80, 3, 2), label=(80,)]\n",
       "Test : [edata=(16, 3, 2), label=(16,)]"
      ]
     },
     "execution_count": 20,
     "metadata": {},
     "output_type": "execute_result"
    }
   ],
   "source": [
    "eegdata = dpeeg.EEGData(np.random.randn(16, 3, 10), np.random.randint(0, 3, 16))\n",
    "split_eegdata = dpeeg.SplitEEGData(eegdata.copy(), eegdata.copy())\n",
    "transforms.SlideWinAug(2)(split_eegdata, verbose=False)"
   ]
  },
  {
   "cell_type": "code",
   "execution_count": 21,
   "metadata": {},
   "outputs": [
    {
     "data": {
      "text/plain": [
       "[edata=(64, 3, 3), label=(64,)]"
      ]
     },
     "execution_count": 21,
     "metadata": {},
     "output_type": "execute_result"
    }
   ],
   "source": [
    "eegdata = dpeeg.EEGData(np.random.randn(16, 3, 10), np.random.randint(0, 3, 16))\n",
    "transforms.SlideWin(3, 1)(eegdata, verbose=False)"
   ]
  },
  {
   "cell_type": "code",
   "execution_count": 22,
   "metadata": {},
   "outputs": [
    {
     "data": {
      "text/plain": [
       "[edata=(16, 1, 3, 3), label=(16,)]"
      ]
     },
     "execution_count": 22,
     "metadata": {},
     "output_type": "execute_result"
    }
   ],
   "source": [
    "eegdata = dpeeg.EEGData(np.random.randn(16, 3, 10), np.random.randint(0, 3, 16))\n",
    "transforms.Sequential(\n",
    "    transforms.Unsqueeze(),\n",
    "    transforms.Crop(2, 5),\n",
    ")(eegdata, verbose=False)"
   ]
  },
  {
   "cell_type": "code",
   "execution_count": 23,
   "metadata": {},
   "outputs": [
    {
     "data": {
      "text/plain": [
       "[edata=(16, 1, 3, 10), label=(16,)]"
      ]
     },
     "execution_count": 23,
     "metadata": {},
     "output_type": "execute_result"
    }
   ],
   "source": [
    "eegdata = dpeeg.EEGData(np.random.randn(16, 3, 10), np.random.randint(0, 3, 16))\n",
    "transforms.Unsqueeze()(eegdata, verbose=False)"
   ]
  },
  {
   "cell_type": "code",
   "execution_count": 24,
   "metadata": {},
   "outputs": [
    {
     "data": {
      "text/plain": [
       "[EEGDataset:\n",
       "  [eegdataset]: Subjects=3, type=EEGData\n",
       "  [event_id]: None\n",
       "]"
      ]
     },
     "execution_count": 24,
     "metadata": {},
     "output_type": "execute_result"
    }
   ],
   "source": [
    "eegdataset = dpeeg.datasets.EEGDataset([\n",
    "    eegdata.copy(), eegdata.copy(), eegdata.copy()\n",
    "])\n",
    "transforms.Squeeze()(eegdataset, iter=False, verbose=False)"
   ]
  },
  {
   "cell_type": "code",
   "execution_count": 25,
   "metadata": {},
   "outputs": [
    {
     "name": "stdout",
     "output_type": "stream",
     "text": [
      "0 [edata=(16, 1, 3, 10), label=(16,)]\n",
      "1 [edata=(16, 1, 3, 10), label=(16,)]\n",
      "2 [edata=(16, 1, 3, 10), label=(16,)]\n"
     ]
    }
   ],
   "source": [
    "tran = transforms.Unsqueeze()\n",
    "for subject, eegdata in tran(eegdataset, iter=True, verbose=False):\n",
    "    print(subject, eegdata)"
   ]
  },
  {
   "cell_type": "code",
   "execution_count": 26,
   "metadata": {},
   "outputs": [
    {
     "data": {
      "text/plain": [
       "{'session_1': [edata=(16, 3, 10), label=(16,)],\n",
       " 'session_2': [edata=(16, 3, 10), label=(16,)]}"
      ]
     },
     "execution_count": 26,
     "metadata": {},
     "output_type": "execute_result"
    }
   ],
   "source": [
    "eegdata = dpeeg.EEGData(np.random.randn(16, 3, 10), np.random.randint(0, 3, 16))\n",
    "dpeeg.MultiSessEEGData([eegdata.copy(), eegdata.copy()])"
   ]
  },
  {
   "cell_type": "code",
   "execution_count": 27,
   "metadata": {},
   "outputs": [
    {
     "data": {
      "text/plain": [
       "{'xx': [edata=(16, 3, 10), label=(16,)],\n",
       " 'yy': [edata=(16, 3, 10), label=(16,)]}"
      ]
     },
     "execution_count": 27,
     "metadata": {},
     "output_type": "execute_result"
    }
   ],
   "source": [
    "dpeeg.MultiSessEEGData({'xx': eegdata.copy(), 'yy': eegdata.copy()})"
   ]
  },
  {
   "cell_type": "code",
   "execution_count": 28,
   "metadata": {},
   "outputs": [],
   "source": [
    "split_eegdata = dpeeg.SplitEEGData(eegdata.copy(), eegdata.copy())"
   ]
  },
  {
   "cell_type": "code",
   "execution_count": 29,
   "metadata": {},
   "outputs": [
    {
     "data": {
      "text/plain": [
       "[edata=(3, 3, 10), label=(3,)]"
      ]
     },
     "execution_count": 29,
     "metadata": {},
     "output_type": "execute_result"
    }
   ],
   "source": [
    "eegdata = dpeeg.EEGData(np.random.randn(16, 3, 10), np.random.randint(2, 5, 16))\n",
    "eegdata.index([1, 2, 3])"
   ]
  },
  {
   "cell_type": "code",
   "execution_count": 30,
   "metadata": {},
   "outputs": [
    {
     "data": {
      "text/plain": [
       "[edata=(6, 3, 10), label=(6,)]"
      ]
     },
     "execution_count": 30,
     "metadata": {},
     "output_type": "execute_result"
    }
   ],
   "source": [
    "eegdata.index(slice(6))"
   ]
  },
  {
   "cell_type": "code",
   "execution_count": 32,
   "metadata": {},
   "outputs": [
    {
     "data": {
      "text/plain": [
       "Train: [edata=(16, 3, 10), label=(16,)]\n",
       "Test : [edata=(16, 3, 10), label=(16,)]"
      ]
     },
     "execution_count": 32,
     "metadata": {},
     "output_type": "execute_result"
    }
   ],
   "source": [
    "eegdata = dpeeg.EEGData(np.random.randn(16, 3, 10), np.random.randint(0, 3, 16))\n",
    "split_eegdata = dpeeg.SplitEEGData(eegdata, eegdata)\n",
    "split_eegdata"
   ]
  }
 ],
 "metadata": {
  "kernelspec": {
   "display_name": "bci",
   "language": "python",
   "name": "python3"
  },
  "language_info": {
   "codemirror_mode": {
    "name": "ipython",
    "version": 3
   },
   "file_extension": ".py",
   "mimetype": "text/x-python",
   "name": "python",
   "nbconvert_exporter": "python",
   "pygments_lexer": "ipython3",
   "version": "3.12.4"
  },
  "orig_nbformat": 4
 },
 "nbformat": 4,
 "nbformat_minor": 2
}
