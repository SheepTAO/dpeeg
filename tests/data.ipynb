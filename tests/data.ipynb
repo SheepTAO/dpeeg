{
 "cells": [
  {
   "cell_type": "code",
   "execution_count": 1,
   "metadata": {},
   "outputs": [],
   "source": [
    "import os\n",
    "import sys\n",
    "\n",
    "BOOTPATH = os.path.dirname(sys.path[0])\n",
    "sys.path.insert(0, BOOTPATH)"
   ]
  },
  {
   "cell_type": "code",
   "execution_count": 2,
   "metadata": {},
   "outputs": [
    {
     "name": "stdout",
     "output_type": "stream",
     "text": [
      "Reading High Gamma Dataset ...\n",
      "Tensorflow not install, you could not use those pipelines\n",
      "To use the get_shape_from_baseconcar, InputShapeSetterEEG, BraindecodeDatasetLoaderyou need to install `braindecode`.`pip install braindecode` or Please refer to `https://braindecode.org`.\n"
     ]
    }
   ],
   "source": [
    "from dpeeg.data.datasets import HGD\n",
    "raw = HGD([1])"
   ]
  },
  {
   "cell_type": "code",
   "execution_count": 2,
   "metadata": {},
   "outputs": [
    {
     "data": {
      "text/plain": [
       "Compose(\n",
       " (0): Normalization(mode=z-score)\n",
       " (1): SlideWin(win=250, overlap=25)\n",
       " (2): Save(fileName=/home/tao/projects/dpeeg_pypi/tests/data_250-25.npy\n",
       ")"
      ]
     },
     "execution_count": 2,
     "metadata": {},
     "output_type": "execute_result"
    }
   ],
   "source": [
    "from dpeeg.data.datasets import transforms\n",
    "\n",
    "trans = transforms.Compose([\n",
    "    transforms.Normalization(),\n",
    "    transforms.SlideWin(250, 25),\n",
    "    transforms.Save('data_250-25')\n",
    "])\n",
    "\n",
    "trans"
   ]
  }
 ],
 "metadata": {
  "kernelspec": {
   "display_name": "bci",
   "language": "python",
   "name": "python3"
  },
  "language_info": {
   "codemirror_mode": {
    "name": "ipython",
    "version": 3
   },
   "file_extension": ".py",
   "mimetype": "text/x-python",
   "name": "python",
   "nbconvert_exporter": "python",
   "pygments_lexer": "ipython3",
   "version": "3.10.11"
  },
  "orig_nbformat": 4
 },
 "nbformat": 4,
 "nbformat_minor": 2
}
