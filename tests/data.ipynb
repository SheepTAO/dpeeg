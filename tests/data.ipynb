{
 "cells": [
  {
   "cell_type": "code",
   "execution_count": 3,
   "metadata": {},
   "outputs": [
    {
     "name": "stdout",
     "output_type": "stream",
     "text": [
      "0.1.0\n"
     ]
    }
   ],
   "source": [
    "import os\n",
    "import sys\n",
    "\n",
    "BOOTPATH = os.path.dirname(sys.path[0])\n",
    "sys.path.insert(0, BOOTPATH)\n",
    "import dpeeg\n",
    "print(dpeeg.__version__)"
   ]
  },
  {
   "cell_type": "code",
   "execution_count": 2,
   "metadata": {},
   "outputs": [
    {
     "name": "stdout",
     "output_type": "stream",
     "text": [
      "Tensorflow not install, you could not use those pipelines\n",
      "To use the get_shape_from_baseconcar, InputShapeSetterEEG, BraindecodeDatasetLoaderyou need to install `braindecode`.`pip install braindecode` or Please refer to `https://braindecode.org`.\n"
     ]
    },
    {
     "ename": "KeyboardInterrupt",
     "evalue": "",
     "output_type": "error",
     "traceback": [
      "\u001b[0;31m---------------------------------------------------------------------------\u001b[0m",
      "\u001b[0;31mKeyboardInterrupt\u001b[0m                         Traceback (most recent call last)",
      "\u001b[1;32m/home/tao/projects/dpeeg_pypi/tests/data.ipynb Cell 2\u001b[0m line \u001b[0;36m2\n\u001b[1;32m      <a href='vscode-notebook-cell://ssh-remote%2Btao/home/tao/projects/dpeeg_pypi/tests/data.ipynb#W1sdnNjb2RlLXJlbW90ZQ%3D%3D?line=0'>1</a>\u001b[0m \u001b[39mfrom\u001b[39;00m \u001b[39mdpeeg\u001b[39;00m\u001b[39m.\u001b[39;00m\u001b[39mdata\u001b[39;00m\u001b[39m.\u001b[39;00m\u001b[39mdatasets\u001b[39;00m \u001b[39mimport\u001b[39;00m HGD\n\u001b[0;32m----> <a href='vscode-notebook-cell://ssh-remote%2Btao/home/tao/projects/dpeeg_pypi/tests/data.ipynb#W1sdnNjb2RlLXJlbW90ZQ%3D%3D?line=1'>2</a>\u001b[0m raw \u001b[39m=\u001b[39m HGD(verbose\u001b[39m=\u001b[39;49m\u001b[39m'\u001b[39;49m\u001b[39mWARNING\u001b[39;49m\u001b[39m'\u001b[39;49m)\n",
      "File \u001b[0;32m~/projects/dpeeg_pypi/dpeeg/tools/logger.py:119\u001b[0m, in \u001b[0;36mverbose.<locals>.inner\u001b[0;34m(*args, **kwargs)\u001b[0m\n\u001b[1;32m    116\u001b[0m loger\u001b[39m.\u001b[39m_update_sh_level(kwargs[\u001b[39m'\u001b[39m\u001b[39mverbose\u001b[39m\u001b[39m'\u001b[39m])\n\u001b[1;32m    117\u001b[0m \u001b[39m# # for debug\u001b[39;00m\n\u001b[1;32m    118\u001b[0m \u001b[39m# print(kwargs, func)\u001b[39;00m\n\u001b[0;32m--> 119\u001b[0m \u001b[39mreturn\u001b[39;00m func(\u001b[39m*\u001b[39;49margs, \u001b[39m*\u001b[39;49m\u001b[39m*\u001b[39;49mkwargs)\n",
      "File \u001b[0;32m~/projects/dpeeg_pypi/dpeeg/data/datasets.py:353\u001b[0m, in \u001b[0;36mHGD.__init__\u001b[0;34m(self, subjects, tmin, tmax, transforms, testSize, picks, baseline, seed, verbose, **epoArgs)\u001b[0m\n\u001b[1;32m    350\u001b[0m loger\u001b[39m.\u001b[39minfo(\u001b[39m'\u001b[39m\u001b[39mReading High Gamma Dataset ...\u001b[39m\u001b[39m'\u001b[39m)\n\u001b[1;32m    352\u001b[0m \u001b[39mfrom\u001b[39;00m \u001b[39mmoabb\u001b[39;00m\u001b[39m.\u001b[39;00m\u001b[39mdatasets\u001b[39;00m \u001b[39mimport\u001b[39;00m Schirrmeister2017\n\u001b[0;32m--> 353\u001b[0m \u001b[39mself\u001b[39m\u001b[39m.\u001b[39m_baseRaw \u001b[39m=\u001b[39m Schirrmeister2017()\u001b[39m.\u001b[39;49mget_data(subjects)\n\u001b[1;32m    354\u001b[0m \u001b[39mself\u001b[39m\u001b[39m.\u001b[39m_eventId \u001b[39m=\u001b[39m {\n\u001b[1;32m    355\u001b[0m     \u001b[39m'\u001b[39m\u001b[39mfeet\u001b[39m\u001b[39m'\u001b[39m: \u001b[39m0\u001b[39m, \n\u001b[1;32m    356\u001b[0m     \u001b[39m'\u001b[39m\u001b[39mleft_hand\u001b[39m\u001b[39m'\u001b[39m: \u001b[39m1\u001b[39m, \n\u001b[1;32m    357\u001b[0m     \u001b[39m'\u001b[39m\u001b[39mrest\u001b[39m\u001b[39m'\u001b[39m: \u001b[39m2\u001b[39m, \n\u001b[1;32m    358\u001b[0m     \u001b[39m'\u001b[39m\u001b[39mright_hand\u001b[39m\u001b[39m'\u001b[39m: \u001b[39m3\u001b[39m\n\u001b[1;32m    359\u001b[0m }\n\u001b[1;32m    361\u001b[0m \u001b[39mself\u001b[39m\u001b[39m.\u001b[39m_raw \u001b[39m=\u001b[39m {}\n",
      "File \u001b[0;32m~/miniconda3/envs/bci/lib/python3.10/site-packages/moabb/datasets/base.py:113\u001b[0m, in \u001b[0;36mBaseDataset.get_data\u001b[0;34m(self, subjects)\u001b[0m\n\u001b[1;32m    111\u001b[0m     \u001b[39mif\u001b[39;00m subject \u001b[39mnot\u001b[39;00m \u001b[39min\u001b[39;00m \u001b[39mself\u001b[39m\u001b[39m.\u001b[39msubject_list:\n\u001b[1;32m    112\u001b[0m         \u001b[39mraise\u001b[39;00m \u001b[39mValueError\u001b[39;00m(\u001b[39m\"\u001b[39m\u001b[39mInvalid subject \u001b[39m\u001b[39m{:d}\u001b[39;00m\u001b[39m given\u001b[39m\u001b[39m\"\u001b[39m\u001b[39m.\u001b[39mformat(subject))\n\u001b[0;32m--> 113\u001b[0m     data[subject] \u001b[39m=\u001b[39m \u001b[39mself\u001b[39;49m\u001b[39m.\u001b[39;49m_get_single_subject_data(subject)\n\u001b[1;32m    115\u001b[0m \u001b[39mreturn\u001b[39;00m data\n",
      "File \u001b[0;32m~/miniconda3/envs/bci/lib/python3.10/site-packages/moabb/datasets/schirrmeister2017.py:95\u001b[0m, in \u001b[0;36mSchirrmeister2017._get_single_subject_data\u001b[0;34m(self, subject)\u001b[0m\n\u001b[1;32m     92\u001b[0m \u001b[39mdef\u001b[39;00m \u001b[39m_get_single_subject_data\u001b[39m(\u001b[39mself\u001b[39m, subject):\n\u001b[1;32m     93\u001b[0m     train_raw, test_raw \u001b[39m=\u001b[39m [\n\u001b[1;32m     94\u001b[0m         mne\u001b[39m.\u001b[39mio\u001b[39m.\u001b[39mread_raw_edf(path, infer_types\u001b[39m=\u001b[39m\u001b[39mTrue\u001b[39;00m, preload\u001b[39m=\u001b[39m\u001b[39mTrue\u001b[39;00m)\n\u001b[0;32m---> 95\u001b[0m         \u001b[39mfor\u001b[39;00m path \u001b[39min\u001b[39;00m \u001b[39mself\u001b[39;49m\u001b[39m.\u001b[39;49mdata_path(subject)\n\u001b[1;32m     96\u001b[0m     ]\n\u001b[1;32m     98\u001b[0m     \u001b[39m# Select only EEG sensors (remove EOG, EMG),\u001b[39;00m\n\u001b[1;32m     99\u001b[0m     \u001b[39m# and also set montage for visualizations\u001b[39;00m\n\u001b[1;32m    100\u001b[0m     montage \u001b[39m=\u001b[39m make_standard_montage(\u001b[39m\"\u001b[39m\u001b[39mstandard_1005\u001b[39m\u001b[39m\"\u001b[39m)\n",
      "File \u001b[0;32m~/miniconda3/envs/bci/lib/python3.10/site-packages/moabb/datasets/schirrmeister2017.py:87\u001b[0m, in \u001b[0;36mSchirrmeister2017.data_path\u001b[0;34m(self, subject, path, force_update, update_path, verbose)\u001b[0m\n\u001b[1;32m     84\u001b[0m \u001b[39mdef\u001b[39;00m \u001b[39m_url\u001b[39m(prefix):\n\u001b[1;32m     85\u001b[0m     \u001b[39mreturn\u001b[39;00m \u001b[39m\"\u001b[39m\u001b[39m/\u001b[39m\u001b[39m\"\u001b[39m\u001b[39m.\u001b[39mjoin([GIN_URL, prefix, \u001b[39m\"\u001b[39m\u001b[39m{:d}\u001b[39;00m\u001b[39m.edf\u001b[39m\u001b[39m\"\u001b[39m\u001b[39m.\u001b[39mformat(subject)])\n\u001b[0;32m---> 87\u001b[0m \u001b[39mreturn\u001b[39;00m [\n\u001b[1;32m     88\u001b[0m     dl\u001b[39m.\u001b[39mdata_dl(_url(t), \u001b[39m\"\u001b[39m\u001b[39mSCHIRRMEISTER2017\u001b[39m\u001b[39m\"\u001b[39m, path, force_update, verbose)\n\u001b[1;32m     89\u001b[0m     \u001b[39mfor\u001b[39;00m t \u001b[39min\u001b[39;00m [\u001b[39m\"\u001b[39m\u001b[39mtrain\u001b[39m\u001b[39m\"\u001b[39m, \u001b[39m\"\u001b[39m\u001b[39mtest\u001b[39m\u001b[39m\"\u001b[39m]\n\u001b[1;32m     90\u001b[0m ]\n",
      "File \u001b[0;32m~/miniconda3/envs/bci/lib/python3.10/site-packages/moabb/datasets/schirrmeister2017.py:88\u001b[0m, in \u001b[0;36m<listcomp>\u001b[0;34m(.0)\u001b[0m\n\u001b[1;32m     84\u001b[0m \u001b[39mdef\u001b[39;00m \u001b[39m_url\u001b[39m(prefix):\n\u001b[1;32m     85\u001b[0m     \u001b[39mreturn\u001b[39;00m \u001b[39m\"\u001b[39m\u001b[39m/\u001b[39m\u001b[39m\"\u001b[39m\u001b[39m.\u001b[39mjoin([GIN_URL, prefix, \u001b[39m\"\u001b[39m\u001b[39m{:d}\u001b[39;00m\u001b[39m.edf\u001b[39m\u001b[39m\"\u001b[39m\u001b[39m.\u001b[39mformat(subject)])\n\u001b[1;32m     87\u001b[0m \u001b[39mreturn\u001b[39;00m [\n\u001b[0;32m---> 88\u001b[0m     dl\u001b[39m.\u001b[39;49mdata_dl(_url(t), \u001b[39m\"\u001b[39;49m\u001b[39mSCHIRRMEISTER2017\u001b[39;49m\u001b[39m\"\u001b[39;49m, path, force_update, verbose)\n\u001b[1;32m     89\u001b[0m     \u001b[39mfor\u001b[39;00m t \u001b[39min\u001b[39;00m [\u001b[39m\"\u001b[39m\u001b[39mtrain\u001b[39m\u001b[39m\"\u001b[39m, \u001b[39m\"\u001b[39m\u001b[39mtest\u001b[39m\u001b[39m\"\u001b[39m]\n\u001b[1;32m     90\u001b[0m ]\n",
      "File \u001b[0;32m<decorator-gen-624>:12\u001b[0m, in \u001b[0;36mdata_dl\u001b[0;34m(url, sign, path, force_update, verbose)\u001b[0m\n",
      "File \u001b[0;32m~/miniconda3/envs/bci/lib/python3.10/site-packages/moabb/datasets/download.py:151\u001b[0m, in \u001b[0;36mdata_dl\u001b[0;34m(url, sign, path, force_update, verbose)\u001b[0m\n\u001b[1;32m    149\u001b[0m     known_hash \u001b[39m=\u001b[39m \u001b[39mNone\u001b[39;00m\n\u001b[1;32m    150\u001b[0m \u001b[39melse\u001b[39;00m:\n\u001b[0;32m--> 151\u001b[0m     known_hash \u001b[39m=\u001b[39m file_hash(\u001b[39mstr\u001b[39;49m(destination))\n\u001b[1;32m    152\u001b[0m dlpath \u001b[39m=\u001b[39m retrieve(\n\u001b[1;32m    153\u001b[0m     url,\n\u001b[1;32m    154\u001b[0m     known_hash,\n\u001b[0;32m   (...)\u001b[0m\n\u001b[1;32m    157\u001b[0m     progressbar\u001b[39m=\u001b[39m\u001b[39mTrue\u001b[39;00m,\n\u001b[1;32m    158\u001b[0m )\n\u001b[1;32m    159\u001b[0m \u001b[39mreturn\u001b[39;00m dlpath\n",
      "File \u001b[0;32m~/miniconda3/envs/bci/lib/python3.10/site-packages/pooch/hashes.py:86\u001b[0m, in \u001b[0;36mfile_hash\u001b[0;34m(fname, alg)\u001b[0m\n\u001b[1;32m     84\u001b[0m     \u001b[39mwhile\u001b[39;00m buff:\n\u001b[1;32m     85\u001b[0m         hasher\u001b[39m.\u001b[39mupdate(buff)\n\u001b[0;32m---> 86\u001b[0m         buff \u001b[39m=\u001b[39m fin\u001b[39m.\u001b[39;49mread(chunksize)\n\u001b[1;32m     87\u001b[0m \u001b[39mreturn\u001b[39;00m hasher\u001b[39m.\u001b[39mhexdigest()\n",
      "\u001b[0;31mKeyboardInterrupt\u001b[0m: "
     ]
    }
   ],
   "source": [
    "\n",
    "from dpeeg.data.datasets import HGD\n",
    "raw = HGD(verbose='WARNING')"
   ]
  },
  {
   "cell_type": "code",
   "execution_count": null,
   "metadata": {},
   "outputs": [],
   "source": [
    "from dpeeg.data.datasets import transforms\n",
    "\n",
    "trans = transforms.Compose([\n",
    "    transforms.Normalization(),\n",
    "    transforms.SlideWin(250, 25),\n",
    "    transforms.Save('HGD_250-25')\n",
    "])\n",
    "\n",
    "trans(raw)"
   ]
  },
  {
   "cell_type": "code",
   "execution_count": null,
   "metadata": {},
   "outputs": [
    {
     "name": "stderr",
     "output_type": "stream",
     "text": [
      "Loading dataset from '/home/tao/projects/dpeeg_pypi/tests/HGD_250-25'\n",
      "[WARNING]: Could not find subjects: {0}, only load subjects: set()\n",
      "Load dataset done.\n"
     ]
    }
   ],
   "source": [
    "from dpeeg.data.functions import load\n",
    "\n",
    "dataset = load('./HGD_250-25/', subjects=[0])"
   ]
  },
  {
   "cell_type": "code",
   "execution_count": null,
   "metadata": {},
   "outputs": [],
   "source": []
  }
 ],
 "metadata": {
  "kernelspec": {
   "display_name": "bci",
   "language": "python",
   "name": "python3"
  },
  "language_info": {
   "codemirror_mode": {
    "name": "ipython",
    "version": 3
   },
   "file_extension": ".py",
   "mimetype": "text/x-python",
   "name": "python",
   "nbconvert_exporter": "python",
   "pygments_lexer": "ipython3",
   "version": "3.10.11"
  },
  "orig_nbformat": 4
 },
 "nbformat": 4,
 "nbformat_minor": 2
}
