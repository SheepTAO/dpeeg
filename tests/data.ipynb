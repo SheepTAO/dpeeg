{
 "cells": [
  {
   "cell_type": "code",
   "execution_count": 1,
   "metadata": {},
   "outputs": [
    {
     "name": "stdout",
     "output_type": "stream",
     "text": [
      "0.3.2\n"
     ]
    }
   ],
   "source": [
    "import os\n",
    "import sys\n",
    "\n",
    "BOOTPATH = os.path.dirname(sys.path[0])\n",
    "sys.path.insert(0, BOOTPATH)\n",
    "import dpeeg\n",
    "print(dpeeg.__version__)"
   ]
  },
  {
   "cell_type": "code",
   "execution_count": 2,
   "metadata": {},
   "outputs": [
    {
     "name": "stderr",
     "output_type": "stream",
     "text": [
      "Reading BCICIV 2A Dataset ...\n"
     ]
    },
    {
     "name": "stdout",
     "output_type": "stream",
     "text": [
      "Tensorflow not install, you could not use those pipelines\n",
      "To use the get_shape_from_baseconcar, InputShapeSetterEEG, BraindecodeDatasetLoaderyou need to install `braindecode`.`pip install braindecode` or Please refer to `https://braindecode.org`.\n"
     ]
    },
    {
     "name": "stderr",
     "output_type": "stream",
     "text": [
      "Create sub1 Epochs ...\n"
     ]
    },
    {
     "name": "stdout",
     "output_type": "stream",
     "text": [
      "48 events found\n",
      "Event IDs: [1 2 3 4]\n",
      "Not setting metadata\n",
      "48 matching events found\n",
      "No baseline correction applied\n",
      "0 projection items activated\n",
      "Using data from preloaded Raw for 48 events and 1001 original time points ...\n",
      "0 bad epochs dropped\n",
      "48 events found\n",
      "Event IDs: [1 2 3 4]\n",
      "Not setting metadata\n",
      "48 matching events found\n",
      "No baseline correction applied\n",
      "0 projection items activated\n",
      "Using data from preloaded Raw for 48 events and 1001 original time points ...\n",
      "0 bad epochs dropped\n",
      "48 events found\n",
      "Event IDs: [1 2 3 4]\n",
      "Not setting metadata\n",
      "48 matching events found\n",
      "No baseline correction applied\n",
      "0 projection items activated\n",
      "Using data from preloaded Raw for 48 events and 1001 original time points ...\n",
      "0 bad epochs dropped\n",
      "48 events found\n",
      "Event IDs: [1 2 3 4]\n",
      "Not setting metadata\n",
      "48 matching events found\n",
      "No baseline correction applied\n",
      "0 projection items activated\n",
      "Using data from preloaded Raw for 48 events and 1001 original time points ...\n",
      "0 bad epochs dropped\n",
      "48 events found\n",
      "Event IDs: [1 2 3 4]\n",
      "Not setting metadata\n",
      "48 matching events found\n",
      "No baseline correction applied\n",
      "0 projection items activated\n",
      "Using data from preloaded Raw for 48 events and 1001 original time points ...\n",
      "0 bad epochs dropped\n",
      "48 events found\n",
      "Event IDs: [1 2 3 4]\n",
      "Not setting metadata\n",
      "48 matching events found\n",
      "No baseline correction applied\n",
      "0 projection items activated\n",
      "Using data from preloaded Raw for 48 events and 1001 original time points ...\n",
      "0 bad epochs dropped\n",
      "48 events found\n",
      "Event IDs: [1 2 3 4]\n",
      "Not setting metadata\n",
      "48 matching events found\n",
      "No baseline correction applied\n",
      "0 projection items activated\n",
      "Using data from preloaded Raw for 48 events and 1001 original time points ...\n",
      "0 bad epochs dropped\n",
      "48 events found\n",
      "Event IDs: [1 2 3 4]\n",
      "Not setting metadata\n",
      "48 matching events found\n",
      "No baseline correction applied\n",
      "0 projection items activated\n",
      "Using data from preloaded Raw for 48 events and 1001 original time points ...\n",
      "0 bad epochs dropped\n",
      "48 events found\n",
      "Event IDs: [1 2 3 4]\n",
      "Not setting metadata\n",
      "48 matching events found\n",
      "No baseline correction applied\n",
      "0 projection items activated\n",
      "Using data from preloaded Raw for 48 events and 1001 original time points ...\n",
      "0 bad epochs dropped\n",
      "48 events found\n",
      "Event IDs: [1 2 3 4]\n",
      "Not setting metadata\n",
      "48 matching events found\n",
      "No baseline correction applied\n",
      "0 projection items activated\n",
      "Using data from preloaded Raw for 48 events and 1001 original time points ...\n",
      "0 bad epochs dropped\n",
      "48 events found\n",
      "Event IDs: [1 2 3 4]\n",
      "Not setting metadata\n",
      "48 matching events found\n",
      "No baseline correction applied\n",
      "0 projection items activated\n",
      "Using data from preloaded Raw for 48 events and 1001 original time points ...\n",
      "0 bad epochs dropped\n",
      "48 events found\n",
      "Event IDs: [1 2 3 4]\n",
      "Not setting metadata\n",
      "48 matching events found\n",
      "No baseline correction applied\n",
      "0 projection items activated\n",
      "Using data from preloaded Raw for 48 events and 1001 original time points ...\n",
      "0 bad epochs dropped\n",
      "Not setting metadata\n",
      "288 matching events found\n",
      "No baseline correction applied\n",
      "Not setting metadata\n",
      "288 matching events found\n",
      "No baseline correction applied\n"
     ]
    },
    {
     "name": "stderr",
     "output_type": "stream",
     "text": [
      "[Normalization(mode=z-score) starting] ...\n",
      "[Unsqueeze(dim=1) starting] ...\n",
      "[Augmentation(method=segmentation_and_reconstruction, onlyTrain=True, kwargs={'multiply': 0, 'n': 8}) starting] ...\n",
      "[Loading dataset done]\n"
     ]
    }
   ],
   "source": [
    "from dpeeg.data import transforms, datasets\n",
    "\n",
    "trans = transforms.ComposeTransforms(\n",
    "    transforms.Normalization(),\n",
    "    transforms.Unsqueeze(),\n",
    "    transforms.Augmentation('segmentation_and_reconstruction', multiply=0, n=8),\n",
    ")\n",
    "\n",
    "data = datasets.BCICIV2A(subjects=[1], transforms=trans)"
   ]
  },
  {
   "cell_type": "code",
   "execution_count": 3,
   "metadata": {},
   "outputs": [
    {
     "data": {
      "text/plain": [
       "(288, 1, 22, 1000)"
      ]
     },
     "execution_count": 3,
     "metadata": {},
     "output_type": "execute_result"
    }
   ],
   "source": [
    "data.dataset[1]['train'][0].shape"
   ]
  }
 ],
 "metadata": {
  "kernelspec": {
   "display_name": "bci",
   "language": "python",
   "name": "python3"
  },
  "language_info": {
   "codemirror_mode": {
    "name": "ipython",
    "version": 3
   },
   "file_extension": ".py",
   "mimetype": "text/x-python",
   "name": "python",
   "nbconvert_exporter": "python",
   "pygments_lexer": "ipython3",
   "version": "3.10.11"
  },
  "orig_nbformat": 4
 },
 "nbformat": 4,
 "nbformat_minor": 2
}
