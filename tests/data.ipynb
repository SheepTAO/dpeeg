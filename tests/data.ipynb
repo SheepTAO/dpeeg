{
 "cells": [
  {
   "cell_type": "code",
   "execution_count": 1,
   "metadata": {
    "metadata": {}
   },
   "outputs": [
    {
     "name": "stderr",
     "output_type": "stream",
     "text": [
      "/home/tao/miniconda3/envs/bci/lib/python3.10/site-packages/torchvision/io/image.py:13: UserWarning: Failed to load image Python extension: '/home/tao/miniconda3/envs/bci/lib/python3.10/site-packages/torchvision/image.so: undefined symbol: _ZN5torch3jit17parseSchemaOrNameERKNSt7__cxx1112basic_stringIcSt11char_traitsIcESaIcEEE'If you don't plan on using image functionality from `torchvision.io`, you can ignore this warning. Otherwise, there might be something wrong with your environment. Did you have `libjpeg` or `libpng` installed before building `torchvision` from source?\n",
      "  warn(\n"
     ]
    },
    {
     "name": "stdout",
     "output_type": "stream",
     "text": [
      "0.4.0\n"
     ]
    }
   ],
   "source": [
    "import dpeeg\n",
    "import numpy as np\n",
    "\n",
    "dpeeg.set_seed()\n",
    "print(dpeeg.__version__)"
   ]
  },
  {
   "cell_type": "code",
   "execution_count": 2,
   "metadata": {},
   "outputs": [
    {
     "name": "stderr",
     "output_type": "stream",
     "text": [
      "Load EEGData:  11%|█         | 1/9 [00:00<00:05,  1.39sub/s]Downloading data from 'http://bnci-horizon-2020.eu/database/data-sets/004-2014/B02T.mat' to file '/home/tao/dpeeg/datasets/bciciv2b/B02T.mat'.\n",
      "/home/tao/miniconda3/envs/bci/lib/python3.10/site-packages/urllib3/connectionpool.py:1056: InsecureRequestWarning: Unverified HTTPS request is being made to host '10.16.10.202'. Adding certificate verification is strongly advised. See: https://urllib3.readthedocs.io/en/1.26.x/advanced-usage.html#ssl-warnings\n",
      "  warnings.warn(\n",
      "100%|█████████████████████████████████████| 33.1M/33.1M [00:00<00:00, 19.8GB/s]\n",
      "SHA256 hash of downloaded file: 1c4ace3eee8d72ca184fa6995a9466939b71175b8b3a129bdaa838a85adf6473\n",
      "Use this value as the 'known_hash' argument of 'pooch.retrieve' to ensure that the file hasn't changed if it is downloaded again in the future.\n",
      "Downloading data from 'http://bnci-horizon-2020.eu/database/data-sets/004-2014/B02E.mat' to file '/home/tao/dpeeg/datasets/bciciv2b/B02E.mat'.\n",
      "/home/tao/miniconda3/envs/bci/lib/python3.10/site-packages/urllib3/connectionpool.py:1056: InsecureRequestWarning: Unverified HTTPS request is being made to host '10.16.10.202'. Adding certificate verification is strongly advised. See: https://urllib3.readthedocs.io/en/1.26.x/advanced-usage.html#ssl-warnings\n",
      "  warnings.warn(\n",
      "100%|█████████████████████████████████████| 16.5M/16.5M [00:00<00:00, 7.58GB/s]\n",
      "SHA256 hash of downloaded file: f057ada16e36e7d58e5670b705ab41aec1175afde0a1e1e0b96cae58dbc7a083\n",
      "Use this value as the 'known_hash' argument of 'pooch.retrieve' to ensure that the file hasn't changed if it is downloaded again in the future.\n",
      "Load EEGData:  22%|██▏       | 2/9 [02:04<08:32, 73.22s/sub]Downloading data from 'http://bnci-horizon-2020.eu/database/data-sets/004-2014/B03T.mat' to file '/home/tao/dpeeg/datasets/bciciv2b/B03T.mat'.\n",
      "/home/tao/miniconda3/envs/bci/lib/python3.10/site-packages/urllib3/connectionpool.py:1056: InsecureRequestWarning: Unverified HTTPS request is being made to host '10.16.10.202'. Adding certificate verification is strongly advised. See: https://urllib3.readthedocs.io/en/1.26.x/advanced-usage.html#ssl-warnings\n",
      "  warnings.warn(\n",
      "100%|█████████████████████████████████████| 35.6M/35.6M [00:00<00:00, 26.0GB/s]\n",
      "SHA256 hash of downloaded file: 4ae1b23b4b4359151787a1a61d3acea128719677c49bfaf0113748cffece3b98\n",
      "Use this value as the 'known_hash' argument of 'pooch.retrieve' to ensure that the file hasn't changed if it is downloaded again in the future.\n",
      "Downloading data from 'http://bnci-horizon-2020.eu/database/data-sets/004-2014/B03E.mat' to file '/home/tao/dpeeg/datasets/bciciv2b/B03E.mat'.\n",
      "/home/tao/miniconda3/envs/bci/lib/python3.10/site-packages/urllib3/connectionpool.py:1056: InsecureRequestWarning: Unverified HTTPS request is being made to host '10.16.10.202'. Adding certificate verification is strongly advised. See: https://urllib3.readthedocs.io/en/1.26.x/advanced-usage.html#ssl-warnings\n",
      "  warnings.warn(\n",
      "100%|█████████████████████████████████████| 19.3M/19.3M [00:00<00:00, 9.52GB/s]\n",
      "SHA256 hash of downloaded file: 6fca9dd9cbbdbb53dd8fb2798feed8e22669a91d1259fdac6695855756181353\n",
      "Use this value as the 'known_hash' argument of 'pooch.retrieve' to ensure that the file hasn't changed if it is downloaded again in the future.\n",
      "Load EEGData:  33%|███▎      | 3/9 [02:22<04:47, 47.87s/sub]Downloading data from 'http://bnci-horizon-2020.eu/database/data-sets/004-2014/B04T.mat' to file '/home/tao/dpeeg/datasets/bciciv2b/B04T.mat'.\n",
      "/home/tao/miniconda3/envs/bci/lib/python3.10/site-packages/urllib3/connectionpool.py:1056: InsecureRequestWarning: Unverified HTTPS request is being made to host '10.16.10.202'. Adding certificate verification is strongly advised. See: https://urllib3.readthedocs.io/en/1.26.x/advanced-usage.html#ssl-warnings\n",
      "  warnings.warn(\n",
      "100%|█████████████████████████████████████| 35.7M/35.7M [00:00<00:00, 15.4GB/s]\n",
      "SHA256 hash of downloaded file: e7230d6d28a9e81d3afdf7ba5d363979e0186dbbc5a73f66d4b713be020ce960\n",
      "Use this value as the 'known_hash' argument of 'pooch.retrieve' to ensure that the file hasn't changed if it is downloaded again in the future.\n",
      "Downloading data from 'http://bnci-horizon-2020.eu/database/data-sets/004-2014/B04E.mat' to file '/home/tao/dpeeg/datasets/bciciv2b/B04E.mat'.\n",
      "/home/tao/miniconda3/envs/bci/lib/python3.10/site-packages/urllib3/connectionpool.py:1056: InsecureRequestWarning: Unverified HTTPS request is being made to host '10.16.10.202'. Adding certificate verification is strongly advised. See: https://urllib3.readthedocs.io/en/1.26.x/advanced-usage.html#ssl-warnings\n",
      "  warnings.warn(\n",
      "100%|█████████████████████████████████████| 17.9M/17.9M [00:00<00:00, 16.1GB/s]\n",
      "SHA256 hash of downloaded file: a08bbc7efb12a29b9ac901c810a42f84053a268b567c0c5c705d401038c6d7f6\n",
      "Use this value as the 'known_hash' argument of 'pooch.retrieve' to ensure that the file hasn't changed if it is downloaded again in the future.\n",
      "Load EEGData:  44%|████▍     | 4/9 [02:39<02:59, 35.89s/sub]Downloading data from 'http://bnci-horizon-2020.eu/database/data-sets/004-2014/B05T.mat' to file '/home/tao/dpeeg/datasets/bciciv2b/B05T.mat'.\n",
      "/home/tao/miniconda3/envs/bci/lib/python3.10/site-packages/urllib3/connectionpool.py:1056: InsecureRequestWarning: Unverified HTTPS request is being made to host '10.16.10.202'. Adding certificate verification is strongly advised. See: https://urllib3.readthedocs.io/en/1.26.x/advanced-usage.html#ssl-warnings\n",
      "  warnings.warn(\n",
      "100%|█████████████████████████████████████| 35.0M/35.0M [00:00<00:00, 27.2GB/s]\n",
      "SHA256 hash of downloaded file: 53166e2cf1a97576262b3f2f27395f489af6fda15ade5c3b3cdd2c89f7df0d79\n",
      "Use this value as the 'known_hash' argument of 'pooch.retrieve' to ensure that the file hasn't changed if it is downloaded again in the future.\n",
      "Downloading data from 'http://bnci-horizon-2020.eu/database/data-sets/004-2014/B05E.mat' to file '/home/tao/dpeeg/datasets/bciciv2b/B05E.mat'.\n",
      "/home/tao/miniconda3/envs/bci/lib/python3.10/site-packages/urllib3/connectionpool.py:1056: InsecureRequestWarning: Unverified HTTPS request is being made to host '10.16.10.202'. Adding certificate verification is strongly advised. See: https://urllib3.readthedocs.io/en/1.26.x/advanced-usage.html#ssl-warnings\n",
      "  warnings.warn(\n",
      "100%|█████████████████████████████████████| 17.5M/17.5M [00:00<00:00, 6.70GB/s]\n",
      "SHA256 hash of downloaded file: a395a547e62241f6bf69b1b42828d394f997189271ebd90d5ff4dde4e4e9e757\n",
      "Use this value as the 'known_hash' argument of 'pooch.retrieve' to ensure that the file hasn't changed if it is downloaded again in the future.\n",
      "Load EEGData:  56%|█████▌    | 5/9 [02:56<01:55, 28.98s/sub]Downloading data from 'http://bnci-horizon-2020.eu/database/data-sets/004-2014/B06T.mat' to file '/home/tao/dpeeg/datasets/bciciv2b/B06T.mat'.\n",
      "/home/tao/miniconda3/envs/bci/lib/python3.10/site-packages/urllib3/connectionpool.py:1056: InsecureRequestWarning: Unverified HTTPS request is being made to host '10.16.10.202'. Adding certificate verification is strongly advised. See: https://urllib3.readthedocs.io/en/1.26.x/advanced-usage.html#ssl-warnings\n",
      "  warnings.warn(\n",
      "100%|█████████████████████████████████████| 36.5M/36.5M [00:00<00:00, 29.7GB/s]\n",
      "SHA256 hash of downloaded file: d69f679ea33121a9202901d5b62efb50f8ed004fa8ad70d10a59351493ffdad8\n",
      "Use this value as the 'known_hash' argument of 'pooch.retrieve' to ensure that the file hasn't changed if it is downloaded again in the future.\n",
      "Downloading data from 'http://bnci-horizon-2020.eu/database/data-sets/004-2014/B06E.mat' to file '/home/tao/dpeeg/datasets/bciciv2b/B06E.mat'.\n",
      "/home/tao/miniconda3/envs/bci/lib/python3.10/site-packages/urllib3/connectionpool.py:1056: InsecureRequestWarning: Unverified HTTPS request is being made to host '10.16.10.202'. Adding certificate verification is strongly advised. See: https://urllib3.readthedocs.io/en/1.26.x/advanced-usage.html#ssl-warnings\n",
      "  warnings.warn(\n",
      "100%|█████████████████████████████████████| 19.4M/19.4M [00:00<00:00, 14.3GB/s]\n",
      "SHA256 hash of downloaded file: c13d76a3bcd6fd445482e3268d38ebd51f28ea286869fc22c47c6d39857b2f2f\n",
      "Use this value as the 'known_hash' argument of 'pooch.retrieve' to ensure that the file hasn't changed if it is downloaded again in the future.\n",
      "Load EEGData:  67%|██████▋   | 6/9 [03:14<01:15, 25.15s/sub]Downloading data from 'http://bnci-horizon-2020.eu/database/data-sets/004-2014/B07T.mat' to file '/home/tao/dpeeg/datasets/bciciv2b/B07T.mat'.\n",
      "/home/tao/miniconda3/envs/bci/lib/python3.10/site-packages/urllib3/connectionpool.py:1056: InsecureRequestWarning: Unverified HTTPS request is being made to host '10.16.10.202'. Adding certificate verification is strongly advised. See: https://urllib3.readthedocs.io/en/1.26.x/advanced-usage.html#ssl-warnings\n",
      "  warnings.warn(\n",
      "100%|█████████████████████████████████████| 33.1M/33.1M [00:00<00:00, 17.0GB/s]\n",
      "SHA256 hash of downloaded file: 0b79522d66710a88f852b83802c7bffd015226d765480f60f16b6bedc5ea33c2\n",
      "Use this value as the 'known_hash' argument of 'pooch.retrieve' to ensure that the file hasn't changed if it is downloaded again in the future.\n",
      "Downloading data from 'http://bnci-horizon-2020.eu/database/data-sets/004-2014/B07E.mat' to file '/home/tao/dpeeg/datasets/bciciv2b/B07E.mat'.\n",
      "/home/tao/miniconda3/envs/bci/lib/python3.10/site-packages/urllib3/connectionpool.py:1056: InsecureRequestWarning: Unverified HTTPS request is being made to host '10.16.10.202'. Adding certificate verification is strongly advised. See: https://urllib3.readthedocs.io/en/1.26.x/advanced-usage.html#ssl-warnings\n",
      "  warnings.warn(\n",
      "100%|█████████████████████████████████████| 17.9M/17.9M [00:00<00:00, 8.86GB/s]\n",
      "SHA256 hash of downloaded file: 29900042a1adee5f722410f8e52e46961f356b68d5a7906df05df04319fde2f1\n",
      "Use this value as the 'known_hash' argument of 'pooch.retrieve' to ensure that the file hasn't changed if it is downloaded again in the future.\n",
      "Load EEGData:  78%|███████▊  | 7/9 [03:31<00:45, 22.52s/sub]Downloading data from 'http://bnci-horizon-2020.eu/database/data-sets/004-2014/B08T.mat' to file '/home/tao/dpeeg/datasets/bciciv2b/B08T.mat'.\n",
      "/home/tao/miniconda3/envs/bci/lib/python3.10/site-packages/urllib3/connectionpool.py:1056: InsecureRequestWarning: Unverified HTTPS request is being made to host '10.16.10.202'. Adding certificate verification is strongly advised. See: https://urllib3.readthedocs.io/en/1.26.x/advanced-usage.html#ssl-warnings\n",
      "  warnings.warn(\n",
      "100%|█████████████████████████████████████| 38.0M/38.0M [00:00<00:00, 18.5GB/s]\n",
      "SHA256 hash of downloaded file: d96bdfd0c8331f238740c10ff03121dc3e3a20a4b1254840c5cc4878aa149b67\n",
      "Use this value as the 'known_hash' argument of 'pooch.retrieve' to ensure that the file hasn't changed if it is downloaded again in the future.\n",
      "Downloading data from 'http://bnci-horizon-2020.eu/database/data-sets/004-2014/B08E.mat' to file '/home/tao/dpeeg/datasets/bciciv2b/B08E.mat'.\n",
      "/home/tao/miniconda3/envs/bci/lib/python3.10/site-packages/urllib3/connectionpool.py:1056: InsecureRequestWarning: Unverified HTTPS request is being made to host '10.16.10.202'. Adding certificate verification is strongly advised. See: https://urllib3.readthedocs.io/en/1.26.x/advanced-usage.html#ssl-warnings\n",
      "  warnings.warn(\n",
      "100%|█████████████████████████████████████| 19.0M/19.0M [00:00<00:00, 9.51GB/s]\n",
      "SHA256 hash of downloaded file: d616cd7f843e899fb01cd1fa86a2a8dd0fd2f2e4db94ab3a09e6b9f8d5a6399a\n",
      "Use this value as the 'known_hash' argument of 'pooch.retrieve' to ensure that the file hasn't changed if it is downloaded again in the future.\n",
      "Load EEGData:  89%|████████▉ | 8/9 [03:49<00:20, 20.95s/sub]Downloading data from 'http://bnci-horizon-2020.eu/database/data-sets/004-2014/B09T.mat' to file '/home/tao/dpeeg/datasets/bciciv2b/B09T.mat'.\n",
      "/home/tao/miniconda3/envs/bci/lib/python3.10/site-packages/urllib3/connectionpool.py:1056: InsecureRequestWarning: Unverified HTTPS request is being made to host '10.16.10.202'. Adding certificate verification is strongly advised. See: https://urllib3.readthedocs.io/en/1.26.x/advanced-usage.html#ssl-warnings\n",
      "  warnings.warn(\n",
      "100%|█████████████████████████████████████| 33.3M/33.3M [00:00<00:00, 19.2GB/s]\n",
      "SHA256 hash of downloaded file: 4f017991a64ceabb2ca73abf6f3c620b2b8fd7468184f52a8444dfdec1ee2adc\n",
      "Use this value as the 'known_hash' argument of 'pooch.retrieve' to ensure that the file hasn't changed if it is downloaded again in the future.\n",
      "Downloading data from 'http://bnci-horizon-2020.eu/database/data-sets/004-2014/B09E.mat' to file '/home/tao/dpeeg/datasets/bciciv2b/B09E.mat'.\n",
      "/home/tao/miniconda3/envs/bci/lib/python3.10/site-packages/urllib3/connectionpool.py:1056: InsecureRequestWarning: Unverified HTTPS request is being made to host '10.16.10.202'. Adding certificate verification is strongly advised. See: https://urllib3.readthedocs.io/en/1.26.x/advanced-usage.html#ssl-warnings\n",
      "  warnings.warn(\n",
      "100%|█████████████████████████████████████| 17.3M/17.3M [00:00<00:00, 8.84GB/s]\n",
      "SHA256 hash of downloaded file: 99f3937393a3c4982beda69850cf3c6cde98dd33e1733a9d67a787e10f407bfd\n",
      "Use this value as the 'known_hash' argument of 'pooch.retrieve' to ensure that the file hasn't changed if it is downloaded again in the future.\n",
      "Load EEGData: 100%|██████████| 9/9 [04:05<00:00, 27.25s/sub]\n"
     ]
    }
   ],
   "source": [
    "import os\n",
    "\n",
    "os.environ['http_proxy'] = \"http://10.16.10.202:7890\"\n",
    "os.environ['https_proxy'] = \"http://10.16.10.202:7890\"\n",
    "\n",
    "from dpeeg.data.datasets import BCICIV2B\n",
    "\n",
    "dataset = BCICIV2B()\n",
    "# raw = dataset.get_raw()\n",
    "# epochs = dataset.get_epochs()\n",
    "data = dataset.get_data()"
   ]
  }
 ],
 "metadata": {
  "kernelspec": {
   "display_name": "bci",
   "language": "python",
   "name": "python3"
  },
  "language_info": {
   "codemirror_mode": {
    "name": "ipython",
    "version": 3
   },
   "file_extension": ".py",
   "mimetype": "text/x-python",
   "name": "python",
   "nbconvert_exporter": "python",
   "pygments_lexer": "ipython3",
   "version": "3.10.13"
  },
  "orig_nbformat": 4
 },
 "nbformat": 4,
 "nbformat_minor": 2
}
