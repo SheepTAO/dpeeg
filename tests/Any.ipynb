{
 "cells": [
  {
   "cell_type": "code",
   "execution_count": null,
   "metadata": {},
   "outputs": [],
   "source": [
    "from collections.abc import Callable\n",
    "from typing import ParamSpec, Concatenate\n",
    "\n",
    "P = ParamSpec(\"P\")\n",
    "\n",
    "def func(input: int, func: Callable[Concatenate[int, ...]], **kwargs):\n",
    "    return func(input, **kwargs)"
   ]
  },
  {
   "cell_type": "code",
   "execution_count": null,
   "metadata": {},
   "outputs": [],
   "source": [
    "from typing import overload, TypeVar, Generic, Literal\n",
    "\n",
    "T = TypeVar('T', bound=bool)\n",
    "\n",
    "class A(Generic[T]):\n",
    "    @overload\n",
    "    def __init__(self: \"A[Literal[True]]\", arg: Literal[True]) -> None: ...\n",
    "\n",
    "    @overload\n",
    "    def __init__(self: \"A[Literal[False]]\", arg: Literal[False]) -> None: ...\n",
    "\n",
    "    def __init__(self, arg: bool) -> None:\n",
    "        self.arg = arg\n",
    "\n",
    "    @overload\n",
    "    def ret(self: \"A[Literal[True]]\", input: object) -> int: ...\n",
    "\n",
    "    @overload\n",
    "    def ret(self: \"A[Literal[False]]\", input: object) -> str: ...\n",
    "\n",
    "    def ret(self, input: object) -> int | str:\n",
    "        if self.arg:\n",
    "            return self.ret_int(input)\n",
    "        else:\n",
    "            return self.ret_str(input)\n",
    "\n",
    "    def ret_int(self, input) -> int:\n",
    "        return int(input)\n",
    "    \n",
    "    def ret_str(self, input) -> str:\n",
    "        return str(input)\n",
    "\n",
    "# 使用示例\n",
    "a_true = A(True)\n",
    "result_int = a_true.ret(42)  # 类型检查器会将 result_int 推断为 int\n",
    "\n",
    "a_false = A(False)\n",
    "result_str = a_false.ret(42)  # 类型检查器会将 result_str 推断为 str"
   ]
  },
  {
   "cell_type": "code",
   "execution_count": 6,
   "metadata": {},
   "outputs": [],
   "source": [
    "from typing import TypeVar, Callable, Any\n",
    "import sys\n",
    "\n",
    "# 获取当前模块\n",
    "CURRENT_MODULE = sys.modules[__name__]\n",
    "\n",
    "# 定义一个 TypeVar\n",
    "T = TypeVar('T')\n",
    "\n",
    "def get_load_function(eegdata_type: str) -> Callable[[Any, Any], T]:\n",
    "    return getattr(CURRENT_MODULE, f\"_load_{eegdata_type}\")\n",
    "\n",
    "# 使用示例\n",
    "def _load_eeg(zipf, namelist) -> dict:\n",
    "    # 实现 EEG 加载逻辑\n",
    "    return {\"eeg_data\": 1}\n",
    "\n",
    "def _load_meg(zipf, namelist) -> list:\n",
    "    # 实现 MEG 加载逻辑\n",
    "    return [1]\n",
    "\n",
    "# 调用\n",
    "eeg_loader = get_load_function(\"eeg\")\n",
    "meg_loader = get_load_function(\"meg\")\n",
    "\n",
    "eeg_data = eeg_loader(1, 2)  # 类型推断为 dict\n",
    "meg_data = meg_loader(1, 2)  # 类型推断为 list"
   ]
  },
  {
   "cell_type": "code",
   "execution_count": 5,
   "metadata": {},
   "outputs": [
    {
     "name": "stdout",
     "output_type": "stream",
     "text": [
      "{'sess_1': {'edata': 1, 'label': 1}}\n"
     ]
    }
   ],
   "source": [
    "# 初始化空字典\n",
    "a = {}\n",
    "\n",
    "# 第一次更新，添加 'sess_1' 键和一个子字典\n",
    "a.setdefault('sess_1', {}).update({'edata': 1})\n",
    "\n",
    "# 第二次更新，添加新的键值对到 'sess_1' 的子字典中\n",
    "a.setdefault('sess_1', {}).update({'label': 1})\n",
    "\n",
    "# 输出结果\n",
    "print(a)  # 输出: {'sess_1': {'edata': 1, 'label': 1}}\n"
   ]
  }
 ],
 "metadata": {
  "kernelspec": {
   "display_name": "bci",
   "language": "python",
   "name": "python3"
  },
  "language_info": {
   "codemirror_mode": {
    "name": "ipython",
    "version": 3
   },
   "file_extension": ".py",
   "mimetype": "text/x-python",
   "name": "python",
   "nbconvert_exporter": "python",
   "pygments_lexer": "ipython3",
   "version": "3.12.4"
  }
 },
 "nbformat": 4,
 "nbformat_minor": 2
}
