{
 "cells": [
  {
   "cell_type": "code",
   "execution_count": 1,
   "metadata": {
    "metadata": {}
   },
   "outputs": [
    {
     "name": "stdout",
     "output_type": "stream",
     "text": [
      "0.4.0\n"
     ]
    }
   ],
   "source": [
    "import dpeeg\n",
    "import numpy as np\n",
    "\n",
    "print(dpeeg.__version__)"
   ]
  },
  {
   "cell_type": "code",
   "execution_count": 2,
   "metadata": {},
   "outputs": [
    {
     "data": {
      "text/plain": [
       "[edata=(32, 3, 10), label=(32,)]"
      ]
     },
     "execution_count": 2,
     "metadata": {},
     "output_type": "execute_result"
    }
   ],
   "source": [
    "eegdata = dpeeg.EEGData(\n",
    "    edata=np.random.randn(16, 3, 10), \n",
    "    label=np.random.randint(0, 3, 16),\n",
    ")\n",
    "eegdata.update(eegdata.copy())\n",
    "eegdata"
   ]
  },
  {
   "cell_type": "code",
   "execution_count": 3,
   "metadata": {},
   "outputs": [
    {
     "data": {
      "text/plain": [
       "{'session_1': [edata=(32, 3, 10), label=(32,)],\n",
       " 'session_2': [edata=(32, 3, 10), label=(32,)]}"
      ]
     },
     "execution_count": 3,
     "metadata": {},
     "output_type": "execute_result"
    }
   ],
   "source": [
    "multi_sess_eegdata = dpeeg.MultiSessEEGData([eegdata.copy(), eegdata.copy()])\n",
    "multi_sess_eegdata"
   ]
  },
  {
   "cell_type": "code",
   "execution_count": 4,
   "metadata": {},
   "outputs": [
    {
     "data": {
      "text/plain": [
       "{'train': [edata=(32, 3, 10), label=(32,)],\n",
       " 'test': [edata=(32, 3, 10), label=(32,)]}"
      ]
     },
     "execution_count": 4,
     "metadata": {},
     "output_type": "execute_result"
    }
   ],
   "source": [
    "split_eegdata = dpeeg.SplitEEGData(eegdata.copy(), eegdata.copy())\n",
    "split_eegdata"
   ]
  },
  {
   "cell_type": "code",
   "execution_count": 5,
   "metadata": {},
   "outputs": [
    {
     "data": {
      "text/plain": [
       "[EEGDataset:\n",
       "  [eegdataset]: {1: [edata=(32, 3, 10), label=(32,)]}\n",
       "  [event_id]: None\n",
       "]"
      ]
     },
     "execution_count": 5,
     "metadata": {},
     "output_type": "execute_result"
    }
   ],
   "source": [
    "dataset = dpeeg.datasets.EEGDataset({1: eegdata})\n",
    "dataset"
   ]
  },
  {
   "cell_type": "code",
   "execution_count": 7,
   "metadata": {},
   "outputs": [],
   "source": [
    "dataset[2] = split_eegdata"
   ]
  }
 ],
 "metadata": {
  "kernelspec": {
   "display_name": "bci",
   "language": "python",
   "name": "python3"
  },
  "language_info": {
   "codemirror_mode": {
    "name": "ipython",
    "version": 3
   },
   "file_extension": ".py",
   "mimetype": "text/x-python",
   "name": "python",
   "nbconvert_exporter": "python",
   "pygments_lexer": "ipython3",
   "version": "3.12.4"
  },
  "orig_nbformat": 4
 },
 "nbformat": 4,
 "nbformat_minor": 2
}
