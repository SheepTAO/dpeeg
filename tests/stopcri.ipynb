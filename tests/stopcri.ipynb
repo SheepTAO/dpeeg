{
 "cells": [
  {
   "cell_type": "code",
   "execution_count": 6,
   "metadata": {},
   "outputs": [],
   "source": [
    "import os\n",
    "import sys\n",
    "\n",
    "BOOTPATH = os.path.dirname(sys.path[0])\n",
    "sys.path.insert(0, BOOTPATH)\n",
    "import dpeeg"
   ]
  },
  {
   "cell_type": "code",
   "execution_count": 7,
   "metadata": {},
   "outputs": [],
   "source": [
    "# stopcri = {\n",
    "#     'Or' : {\n",
    "#         'cri1': {'MaxEpoch': {'maxEpochs': 20, 'varName': 'epoch'}}, \n",
    "#         'cri2': {'NoDecrease': {'numEpochs': 10, 'varName': 'valInacc'}}\n",
    "#     }\n",
    "# }\n",
    "\n",
    "stopcri = {'MaxEpoch': {'maxEpochs': 20, 'varName': 'epoch'}}"
   ]
  },
  {
   "cell_type": "code",
   "execution_count": 8,
   "metadata": {},
   "outputs": [],
   "source": [
    "stopMon = dpeeg.base.stopcriteria.ComposeStopCriteria(stopcri)"
   ]
  },
  {
   "cell_type": "code",
   "execution_count": 9,
   "metadata": {},
   "outputs": [
    {
     "name": "stdout",
     "output_type": "stream",
     "text": [
      "MaxEpoch(maxEpochs=20, varName=epoch)\n"
     ]
    }
   ],
   "source": [
    "print(stopMon)"
   ]
  },
  {
   "cell_type": "code",
   "execution_count": 10,
   "metadata": {},
   "outputs": [
    {
     "name": "stdout",
     "output_type": "stream",
     "text": [
      "0\n",
      "1\n",
      "2\n",
      "3\n",
      "4\n",
      "5\n",
      "6\n",
      "7\n",
      "8\n",
      "9\n",
      "10\n",
      "11\n",
      "12\n",
      "13\n",
      "14\n",
      "15\n",
      "16\n",
      "17\n",
      "18\n",
      "19\n",
      "done\n"
     ]
    }
   ],
   "source": [
    "stopMon.reset_parameters()\n",
    "monitors = {'epoch': 0, 'valInacc': 0}\n",
    "\n",
    "while not stopMon(monitors):\n",
    "    print(monitors['epoch'])\n",
    "    monitors['epoch'] += 1\n",
    "    # monitors['valInacc'] += 2\n",
    "\n",
    "print('done')"
   ]
  },
  {
   "cell_type": "code",
   "execution_count": null,
   "metadata": {},
   "outputs": [],
   "source": []
  }
 ],
 "metadata": {
  "kernelspec": {
   "display_name": "bci",
   "language": "python",
   "name": "python3"
  },
  "language_info": {
   "codemirror_mode": {
    "name": "ipython",
    "version": 3
   },
   "file_extension": ".py",
   "mimetype": "text/x-python",
   "name": "python",
   "nbconvert_exporter": "python",
   "pygments_lexer": "ipython3",
   "version": "3.10.11"
  },
  "orig_nbformat": 4
 },
 "nbformat": 4,
 "nbformat_minor": 2
}
