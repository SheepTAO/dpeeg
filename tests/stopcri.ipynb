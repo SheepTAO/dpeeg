{
 "cells": [
  {
   "cell_type": "code",
   "execution_count": 1,
   "metadata": {},
   "outputs": [],
   "source": [
    "import os\n",
    "import sys\n",
    "\n",
    "BOOTPATH = os.path.dirname(sys.path[0])\n",
    "sys.path.insert(0, BOOTPATH)\n",
    "import dpeeg"
   ]
  },
  {
   "cell_type": "code",
   "execution_count": 2,
   "metadata": {},
   "outputs": [],
   "source": [
    "stopcri = {\n",
    "    'And' : {\n",
    "        'cri1': {'MaxEpoch': {'maxEpochs': 1600, 'varName': 'epochs'}}, \n",
    "        'cri2': {'NoDecrease': {'numEpochs': 200, 'varName': 'valInacc'}}\n",
    "    }\n",
    "}"
   ]
  },
  {
   "cell_type": "code",
   "execution_count": 3,
   "metadata": {},
   "outputs": [],
   "source": [
    "stopMon = dpeeg.base.stopcriteria.ComposeStopCriteria(stopcri)"
   ]
  },
  {
   "cell_type": "code",
   "execution_count": 4,
   "metadata": {},
   "outputs": [
    {
     "name": "stdout",
     "output_type": "stream",
     "text": [
      "(MaxEpoch(maxEpochs=1600, varName=epochs) 'AND' NoDecrease(numEpochs=200, varName=valInacc, minChange=1e-06))\n"
     ]
    }
   ],
   "source": [
    "print(stopMon)"
   ]
  }
 ],
 "metadata": {
  "kernelspec": {
   "display_name": "bci",
   "language": "python",
   "name": "python3"
  },
  "language_info": {
   "codemirror_mode": {
    "name": "ipython",
    "version": 3
   },
   "file_extension": ".py",
   "mimetype": "text/x-python",
   "name": "python",
   "nbconvert_exporter": "python",
   "pygments_lexer": "ipython3",
   "version": "3.10.11"
  },
  "orig_nbformat": 4
 },
 "nbformat": 4,
 "nbformat_minor": 2
}
