{
 "cells": [
  {
   "cell_type": "code",
   "execution_count": 1,
   "metadata": {},
   "outputs": [
    {
     "name": "stdout",
     "output_type": "stream",
     "text": [
      "0.2.7\n"
     ]
    }
   ],
   "source": [
    "import os\n",
    "import sys\n",
    "import numpy as np\n",
    "\n",
    "BOOTPATH = os.path.dirname(sys.path[0])\n",
    "sys.path.insert(0, BOOTPATH)\n",
    "import dpeeg\n",
    "print(dpeeg.__version__)"
   ]
  },
  {
   "cell_type": "code",
   "execution_count": 2,
   "metadata": {},
   "outputs": [
    {
     "name": "stdout",
     "output_type": "stream",
     "text": [
      "Tensorflow not install, you could not use those pipelines\n",
      "To use the get_shape_from_baseconcar, InputShapeSetterEEG, BraindecodeDatasetLoaderyou need to install `braindecode`.`pip install braindecode` or Please refer to `https://braindecode.org`.\n"
     ]
    },
    {
     "name": "stderr",
     "output_type": "stream",
     "text": [
      "Transform dataset ...\n",
      "----------------------\n",
      "[ApplyFunc(func=<function <lambda> at 0x7f5bfc081750>) starting ...]\n",
      "----------------\n",
      "Transform done.\n",
      "Loading dataset done.\n"
     ]
    }
   ],
   "source": [
    "data = dpeeg.data.BCICIV2A(subjects=[1], tmin=0, tmax=4, verbose='WARNING', \n",
    "                           transforms=dpeeg.data.transforms.ApplyFunc(\n",
    "                               lambda x: np.expand_dims(x, 1)\n",
    "                           ))"
   ]
  },
  {
   "cell_type": "code",
   "execution_count": 3,
   "metadata": {},
   "outputs": [
    {
     "data": {
      "text/plain": [
       "{'train': (array([[[ 3.90625000e-07,  6.29882813e-06,  5.07812500e-06, ...,\n",
       "           -4.88281250e-06, -6.39648437e-06, -2.34375000e-06],\n",
       "          [-4.24804687e-06,  0.00000000e+00, -2.78320312e-06, ...,\n",
       "            5.37109375e-07, -4.15039062e-06, -2.39257812e-06],\n",
       "          [-4.05273438e-06,  2.14843750e-06, -2.44140625e-07, ...,\n",
       "           -5.17578125e-06, -7.22656250e-06, -4.68750000e-06],\n",
       "          ...,\n",
       "          [-5.71289063e-06, -3.46679687e-06, -8.05664063e-06, ...,\n",
       "            1.95312500e-07, -7.42187500e-06, -7.47070312e-06],\n",
       "          [-5.56640625e-06, -4.29687500e-06, -1.01074219e-05, ...,\n",
       "            1.70898437e-06, -5.95703125e-06, -5.61523437e-06],\n",
       "          [-2.14843750e-06, -1.22070313e-06, -5.51757812e-06, ...,\n",
       "            2.92968750e-06, -4.19921875e-06, -5.76171875e-06]]]),\n",
       "  3)}"
      ]
     },
     "execution_count": 3,
     "metadata": {},
     "output_type": "execute_result"
    }
   ],
   "source": [
    "data[1, 0]"
   ]
  }
 ],
 "metadata": {
  "kernelspec": {
   "display_name": "bci",
   "language": "python",
   "name": "python3"
  },
  "language_info": {
   "codemirror_mode": {
    "name": "ipython",
    "version": 3
   },
   "file_extension": ".py",
   "mimetype": "text/x-python",
   "name": "python",
   "nbconvert_exporter": "python",
   "pygments_lexer": "ipython3",
   "version": "3.10.11"
  },
  "orig_nbformat": 4
 },
 "nbformat": 4,
 "nbformat_minor": 2
}
